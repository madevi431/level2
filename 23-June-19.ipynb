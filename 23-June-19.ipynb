{
 "cells": [
  {
   "cell_type": "markdown",
   "metadata": {},
   "source": [
    "# lift quieries"
   ]
  },
  {
   "cell_type": "code",
   "execution_count": 12,
   "metadata": {},
   "outputs": [
    {
     "name": "stdout",
     "output_type": "stream",
     "text": [
      "5\n",
      "5\n",
      "B\n",
      "7\n",
      "B\n",
      "1\n",
      "A\n",
      "3\n",
      "A\n",
      "4\n",
      "A\n"
     ]
    }
   ],
   "source": [
    "a=0\n",
    "b=7\n",
    "t=int(input())\n",
    "for i in range(t):\n",
    "    f=int(input())\n",
    "    if((f-a)<(b-f)) or ((f-a)==(b-f)):\n",
    "        print(\"A\")\n",
    "        a=f\n",
    "    else:\n",
    "        print(\"B\")\n",
    "        b=f\n"
   ]
  },
  {
   "cell_type": "markdown",
   "metadata": {},
   "source": [
    "###### Frquency of unique word count"
   ]
  },
  {
   "cell_type": "code",
   "execution_count": 14,
   "metadata": {},
   "outputs": [
    {
     "data": {
      "text/plain": [
       "{'hiii': 2,\n",
       " 'hello': 2,\n",
       " 'how': 1,\n",
       " 'are': 1,\n",
       " 'you': 1,\n",
       " 'checking': 1,\n",
       " 'the': 1,\n",
       " 'parameters': 1,\n",
       " 'of': 1,\n",
       " 'a': 5,\n",
       " 'file': 1,\n",
       " 'handling': 1}"
      ]
     },
     "execution_count": 14,
     "metadata": {},
     "output_type": "execute_result"
    }
   ],
   "source": [
    "def frequuniqcount(filename):\n",
    "    with open(filename,'r') as f:\n",
    "        x=f.read()\n",
    "        y=x.split()\n",
    "        d={}\n",
    "        for i in y:\n",
    "            d[i]=x.count(i)\n",
    "    return d\n",
    "filename=\"data files/taskhelp.txt\"\n",
    "frequuniqcount(filename)\n",
    "        "
   ]
  },
  {
   "cell_type": "code",
   "execution_count": null,
   "metadata": {},
   "outputs": [],
   "source": []
  }
 ],
 "metadata": {
  "kernelspec": {
   "display_name": "Python 3",
   "language": "python",
   "name": "python3"
  }
 },
 "nbformat": 4,
 "nbformat_minor": 2
}
