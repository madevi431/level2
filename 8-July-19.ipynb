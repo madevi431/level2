{
 "cells": [
  {
   "cell_type": "markdown",
   "metadata": {},
   "source": [
    "# 1.Function to print all numbers divisible by 6 and not a factor of 100 in a given range(lb, ub) inclusive"
   ]
  },
  {
   "cell_type": "code",
   "execution_count": 5,
   "metadata": {},
   "outputs": [
    {
     "name": "stdout",
     "output_type": "stream",
     "text": [
      "102 108 114 120 126 132 138 144 150 "
     ]
    }
   ],
   "source": [
    "def divisble6notfact100(lb,ub):\n",
    "    for i in range(lb,ub+1):\n",
    "        if(i%6==0)and (i%100!=0):\n",
    "            print(i,end=\" \")\n",
    "divisble6notfact100(101,150)   "
   ]
  },
  {
   "cell_type": "markdown",
   "metadata": {},
   "source": [
    "# 2.Function to find the average of cubes of all even numbers in a given range(lb, ub) inclusive"
   ]
  },
  {
   "cell_type": "code",
   "execution_count": 7,
   "metadata": {},
   "outputs": [
    {
     "data": {
      "text/plain": [
       "27"
      ]
     },
     "execution_count": 7,
     "metadata": {},
     "output_type": "execute_result"
    }
   ],
   "source": [
    "3**3\n"
   ]
  },
  {
   "cell_type": "code",
   "execution_count": 22,
   "metadata": {},
   "outputs": [
    {
     "name": "stdout",
     "output_type": "stream",
     "text": [
      "2 cube: 8 8.0\n",
      "4 cube: 64 36.0\n",
      "6 cube: 216 96.0\n",
      "8 cube: 512 200.0\n",
      "10 cube: 1000 360.0\n"
     ]
    },
    {
     "data": {
      "text/plain": [
       "360.0"
      ]
     },
     "execution_count": 22,
     "metadata": {},
     "output_type": "execute_result"
    }
   ],
   "source": [
    "def cubesofeven(lb,ub):\n",
    "    s=0\n",
    "    c=0\n",
    "    for i in range(lb,ub+1):\n",
    "        if(i%2==0):\n",
    "            print(i,end=\" \")\n",
    "            s1=i**3\n",
    "            print(\"cube:\",s1,end=\" \")\n",
    "            s=s+s1\n",
    "            c=c+1\n",
    "            avg=s/c\n",
    "            print(avg)\n",
    "    return avg\n",
    "cubesofeven(1,10)\n",
    "            \n",
    "            "
   ]
  },
  {
   "cell_type": "markdown",
   "metadata": {},
   "source": [
    "# Another way"
   ]
  },
  {
   "cell_type": "code",
   "execution_count": 19,
   "metadata": {},
   "outputs": [
    {
     "name": "stdout",
     "output_type": "stream",
     "text": [
      "[8]\n",
      "[8, 64]\n",
      "[8, 64, 216]\n",
      "[8, 64, 216, 512]\n",
      "[8, 64, 216, 512, 1000]\n"
     ]
    },
    {
     "data": {
      "text/plain": [
       "360.0"
      ]
     },
     "execution_count": 19,
     "metadata": {},
     "output_type": "execute_result"
    }
   ],
   "source": [
    "def cubeven(lb,ub):\n",
    "    li=[]\n",
    "    for i in range(lb,ub+1):\n",
    "            if(i%2==0):\n",
    "                li.append(i**3)\n",
    "                print(li)\n",
    "                \n",
    "    return (sum(li)/len(li))\n",
    "cubeven(1,10)"
   ]
  },
  {
   "cell_type": "markdown",
   "metadata": {},
   "source": [
    "# Function to generate the list of factors for a given number"
   ]
  },
  {
   "cell_type": "code",
   "execution_count": 25,
   "metadata": {},
   "outputs": [
    {
     "name": "stdout",
     "output_type": "stream",
     "text": [
      "1\n",
      "2\n",
      "3\n",
      "6\n"
     ]
    }
   ],
   "source": [
    "def factorsofnumber(n):\n",
    "    f=1\n",
    "    for i in range(1,n+1):\n",
    "        if(n%i==0):\n",
    "            print(i)\n",
    "factorsofnumber(6)\n",
    "\n",
    "        "
   ]
  },
  {
   "cell_type": "markdown",
   "metadata": {},
   "source": [
    "# Function to calculate the factorial of a given number"
   ]
  },
  {
   "cell_type": "code",
   "execution_count": 26,
   "metadata": {},
   "outputs": [
    {
     "name": "stdout",
     "output_type": "stream",
     "text": [
      "1\n",
      "2\n",
      "6\n",
      "24\n",
      "120\n",
      "720\n"
     ]
    }
   ],
   "source": [
    "def factroalofnumber(n):\n",
    "    f=1\n",
    "    for i in range(1,n+1):\n",
    "        f=f*i\n",
    "        print(f)\n",
    "factroalofnumber(6)\n",
    "        "
   ]
  },
  {
   "cell_type": "markdown",
   "metadata": {},
   "source": [
    "# Function to check if a given number is Prime"
   ]
  },
  {
   "cell_type": "code",
   "execution_count": 60,
   "metadata": {},
   "outputs": [
    {
     "data": {
      "text/plain": [
       "'prime'"
      ]
     },
     "execution_count": 60,
     "metadata": {},
     "output_type": "execute_result"
    }
   ],
   "source": [
    "def isprime(n):\n",
    "    f=0\n",
    "    for i in range(1,n+1):\n",
    "        if(n%i==0):\n",
    "            f=f+1\n",
    "    if(f==2):\n",
    "        return (\"prime\")\n",
    "    return (\"not prime\")\n",
    "            \n",
    "        \n",
    "isprime(3)    \n",
    "            "
   ]
  },
  {
   "cell_type": "markdown",
   "metadata": {},
   "source": [
    "# Function to calculate the average first N Prime numbers"
   ]
  },
  {
   "cell_type": "code",
   "execution_count": 64,
   "metadata": {},
   "outputs": [
    {
     "name": "stdout",
     "output_type": "stream",
     "text": [
      "2\n",
      "3\n",
      "5\n"
     ]
    },
    {
     "data": {
      "text/plain": [
       "3.3333333333333335"
      ]
     },
     "execution_count": 64,
     "metadata": {},
     "output_type": "execute_result"
    }
   ],
   "source": [
    "def avgofnprimenumbers(n):\n",
    "    s=0\n",
    "    c=0\n",
    "    for i in range(1,n):\n",
    "        if isprime(i)==\"prime\":\n",
    "            print(i)\n",
    "            s=s+i\n",
    "            c=c+1\n",
    "    return s/c\n",
    "avgofnprimenumbers(6)\n"
   ]
  },
  {
   "cell_type": "markdown",
   "metadata": {},
   "source": [
    "# Function to generate all Perfect numbers in a given range"
   ]
  },
  {
   "cell_type": "code",
   "execution_count": 81,
   "metadata": {},
   "outputs": [
    {
     "name": "stdout",
     "output_type": "stream",
     "text": [
      "6\n"
     ]
    }
   ],
   "source": [
    "def perfectnumbersrange(lb,ub):\n",
    "    for j in range(lb,ub+1):\n",
    "        s=0\n",
    "        for i in range(1,j):\n",
    "            if(j%i==0):#checking forb factors\n",
    "               \n",
    "                s=s+i\n",
    "        if s==j:\n",
    "            print(j)\n",
    "perfectnumbersrange(1,10)\n",
    "            \n",
    "        "
   ]
  },
  {
   "cell_type": "code",
   "execution_count": 84,
   "metadata": {},
   "outputs": [
    {
     "name": "stdout",
     "output_type": "stream",
     "text": [
      "6 28 496 "
     ]
    }
   ],
   "source": [
    "def perfect(lb,ub):\n",
    "    for i in range(lb,ub+1):\n",
    "        s=0\n",
    "        for j in range(1,i):\n",
    "            if(i%j==0):\n",
    "                s=s+j\n",
    "        if s==i:\n",
    "            print(i,end=\" \")\n",
    "perfect(1,500)\n",
    "    "
   ]
  },
  {
   "cell_type": "markdown",
   "metadata": {},
   "source": [
    "# Function to calculate the average of all factorials in a given range"
   ]
  },
  {
   "cell_type": "code",
   "execution_count": 87,
   "metadata": {},
   "outputs": [
    {
     "data": {
      "text/plain": [
       "403791.3"
      ]
     },
     "execution_count": 87,
     "metadata": {},
     "output_type": "execute_result"
    }
   ],
   "source": [
    "def avgoffactorialsrange(lb,ub):\n",
    "    f=1\n",
    "    s=0\n",
    "    c=0\n",
    "    for i in range(lb,ub+1):\n",
    "        f=f*i\n",
    "        s=s+f\n",
    "        c=c+1\n",
    "        avg=s/c\n",
    "    return avg\n",
    "avgoffactorialsrange(1,10)\n",
    "        "
   ]
  },
  {
   "cell_type": "markdown",
   "metadata": {},
   "source": [
    "# Function to generate N odd Armstrong numbers\n"
   ]
  },
  {
   "cell_type": "code",
   "execution_count": 154,
   "metadata": {},
   "outputs": [
    {
     "data": {
      "text/plain": [
       "True"
      ]
     },
     "execution_count": 154,
     "metadata": {},
     "output_type": "execute_result"
    }
   ],
   "source": [
    "def armstrong(n):\n",
    "    \n",
    "    n1=len(n)\n",
    "    s=0\n",
    "    for i in n:\n",
    "        s=s+(int(i)**n1)\n",
    "    if s==int(n):\n",
    "        return True\n",
    "\n",
    "armstrong(\"153\")\n"
   ]
  },
  {
   "cell_type": "code",
   "execution_count": 152,
   "metadata": {},
   "outputs": [
    {
     "name": "stdout",
     "output_type": "stream",
     "text": [
      "1\n",
      "3\n",
      "5\n",
      "7\n",
      "9\n",
      "153\n",
      "371\n",
      "407\n"
     ]
    }
   ],
   "source": [
    "def noddarmstrong(n):\n",
    "    for i in range(1,n+1):\n",
    "        if armstrong(str(i))==True:\n",
    "            \n",
    "            if(i%2!=0):\n",
    "                print(i)\n",
    "noddarmstrong(500)            \n",
    "        "
   ]
  },
  {
   "cell_type": "code",
   "execution_count": null,
   "metadata": {},
   "outputs": [],
   "source": []
  }
 ],
 "metadata": {
  "kernelspec": {
   "display_name": "Python 3",
   "language": "python",
   "name": "python3"
  },
  "language_info": {
   "codemirror_mode": {
    "name": "ipython",
    "version": 3
   },
   "file_extension": ".py",
   "mimetype": "text/x-python",
   "name": "python",
   "nbconvert_exporter": "python",
   "pygments_lexer": "ipython3",
   "version": "3.7.3"
  }
 },
 "nbformat": 4,
 "nbformat_minor": 2
}
