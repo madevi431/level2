{
 "cells": [
  {
   "cell_type": "markdown",
   "metadata": {},
   "source": [
    "# String Slicing"
   ]
  },
  {
   "cell_type": "code",
   "execution_count": 66,
   "metadata": {},
   "outputs": [
    {
     "name": "stdout",
     "output_type": "stream",
     "text": [
      "nohtyp\n",
      "no\n",
      "ht\n",
      "pto\n",
      "nhy\n"
     ]
    }
   ],
   "source": [
    "s=\"python\"\n",
    "print(s[-1::-1])# Accessing the reverese of a string\n",
    "print(s[-1:3:-1])# Accessing thelast 2 characters of a string in reverse\n",
    "print(s[len(s)//2:len(s)//2-2:-1])#accesing the middile of 2 characters in a string in a reverse\n",
    "print(s[::2])#Accesing alternative characters in string\n",
    "print(s[::-2])#Accesing alternate characters of stringnin reverse\n",
    "                        \n",
    "\n"
   ]
  },
  {
   "cell_type": "markdown",
   "metadata": {},
   "source": [
    "# Functions"
   ]
  },
  {
   "cell_type": "code",
   "execution_count": 11,
   "metadata": {},
   "outputs": [
    {
     "data": {
      "text/plain": [
       "'!dlrowolleh'"
      ]
     },
     "execution_count": 11,
     "metadata": {},
     "output_type": "execute_result"
    }
   ],
   "source": [
    "#Function to reverse a string\n",
    "def revstring(s):\n",
    "    return s[::-1]\n",
    "revstring(\"helloworld!\")\n",
    "    "
   ]
  },
  {
   "cell_type": "code",
   "execution_count": 55,
   "metadata": {},
   "outputs": [
    {
     "data": {
      "text/plain": [
       "True"
      ]
     },
     "execution_count": 55,
     "metadata": {},
     "output_type": "execute_result"
    }
   ],
   "source": [
    "#Function to check if a string is a palindrome\n",
    "def palindrome(s):\n",
    "    if s==s[::-1]:\n",
    "        return True\n",
    "    else:\n",
    "        return False\n",
    "palindrome(\"mom\")\n",
    "\n",
    "    "
   ]
  },
  {
   "cell_type": "code",
   "execution_count": 58,
   "metadata": {},
   "outputs": [
    {
     "data": {
      "text/plain": [
       "False"
      ]
     },
     "execution_count": 58,
     "metadata": {},
     "output_type": "execute_result"
    }
   ],
   "source": [
    "#Function to check a year  ia a leap year\n",
    "def isleap(year):\n",
    "    if year%4==0 and year%100!=0 or year%400==0:\n",
    "        return True\n",
    "    return False\n",
    "isleap(1000)"
   ]
  },
  {
   "cell_type": "code",
   "execution_count": 44,
   "metadata": {},
   "outputs": [
    {
     "name": "stdout",
     "output_type": "stream",
     "text": [
      "78\n"
     ]
    }
   ],
   "source": [
    "#Function to identifying the greatest of a 4 numbers\n",
    "def greatest4(n1,n2,n3,n4):\n",
    "    if n1>n2 and n1>n3 and n1>n4:\n",
    "        return n1\n",
    "    elif n2>n1 and n2>n3 and n2>n4:\n",
    "        return n2\n",
    "    elif n3>n1 and n3>n2 and n3>n4:\n",
    "        return n3\n",
    "    elif n4>n1 and n4>n2 and n4>n3:\n",
    "        return n4\n",
    "print(greatest4(3,5,78,9))\n",
    "    \n"
   ]
  },
  {
   "cell_type": "code",
   "execution_count": 51,
   "metadata": {},
   "outputs": [
    {
     "data": {
      "text/plain": [
       "4"
      ]
     },
     "execution_count": 51,
     "metadata": {},
     "output_type": "execute_result"
    }
   ],
   "source": [
    "#Function to count the number of digits in a given number\n",
    "def countdigits(n):\n",
    "    return (len(str(n)))\n",
    "countdigits(6789)  "
   ]
  },
  {
   "cell_type": "markdown",
   "metadata": {},
   "source": [
    "# Iteration\n",
    "- for\n",
    "- while"
   ]
  },
  {
   "cell_type": "code",
   "execution_count": 65,
   "metadata": {},
   "outputs": [
    {
     "name": "stdout",
     "output_type": "stream",
     "text": [
      "1 2 3 4 5 6 7 8 9 10 11 12 13 14 15 \n",
      "1 2 3 4 5 6 7 8 9 10 \n"
     ]
    }
   ],
   "source": [
    "#Functions to print n  natural numbers\n",
    "\n",
    "def nNatural(n):\n",
    "    for i in range(1,n+1):\n",
    "        print(i,end=\" \")\n",
    "    return \"\"\n",
    "    \n",
    "print(nNatural(15))\n",
    "print(nNatural(10))"
   ]
  },
  {
   "cell_type": "code",
   "execution_count": 15,
   "metadata": {},
   "outputs": [
    {
     "name": "stdout",
     "output_type": "stream",
     "text": [
      "500 504 508 512 516 520 524 528 532 536 540 544 548 "
     ]
    }
   ],
   "source": [
    "#fUNCTION TO GENERATE THE ALTERANATE VALUES IN A GIVEN RANGE\n",
    "##[500,550]-->500,501,----,550\n",
    "##(500,550)-->501,503,505,--,549\n",
    "##range(500,550)-->500,501,502,---549\n",
    "def alter(lb,ub):\n",
    "    for i in range(lb,ub+1,4):\n",
    "        print(i,end=\" \")\n",
    "    return \n",
    "alter(500,550)"
   ]
  },
  {
   "cell_type": "code",
   "execution_count": 28,
   "metadata": {},
   "outputs": [
    {
     "name": "stdout",
     "output_type": "stream",
     "text": [
      "10 9 8 7 6 5 4 3 2 1 "
     ]
    }
   ],
   "source": [
    "#function to generate reverse a range\n",
    "def reverserange(lb,ub):\n",
    "    for i in range(ub,lb-1,-1):\n",
    "        print(i,end=\" \")\n",
    "    return\n",
    "reverserange(1,10)"
   ]
  },
  {
   "cell_type": "code",
   "execution_count": 38,
   "metadata": {},
   "outputs": [
    {
     "name": "stdout",
     "output_type": "stream",
     "text": [
      "9 7 5 3 1 "
     ]
    },
    {
     "data": {
      "text/plain": [
       "'odd'"
      ]
     },
     "execution_count": 38,
     "metadata": {},
     "output_type": "execute_result"
    }
   ],
   "source": [
    "#function to print the odd numbers in a reverse of a range\n",
    "def reverseodd(lb,ub):\n",
    "    for i in  range(ub ,lb-1,-1):\n",
    "        if i%2!=0:   #number divides  by 2 and remainder is not 0 then odd number\n",
    "            print(i,end=\" \")\n",
    "    return \"odd\"\n",
    "reverseodd(0,10)\n",
    "        "
   ]
  },
  {
   "cell_type": "code",
   "execution_count": 43,
   "metadata": {},
   "outputs": [
    {
     "data": {
      "text/plain": [
       "15150"
      ]
     },
     "execution_count": 43,
     "metadata": {},
     "output_type": "execute_result"
    }
   ],
   "source": [
    "#Function to calculate the sum of numbers in a range\n",
    "def sumnumbersrange(lb,ub):\n",
    "    s=0\n",
    "    for i in range(lb,ub+1):\n",
    "        s=s+i  #add the sumof previous value along  with the i\n",
    "    return s\n",
    "sumnumbersrange(100,200)\n"
   ]
  },
  {
   "cell_type": "code",
   "execution_count": 56,
   "metadata": {},
   "outputs": [
    {
     "name": "stdout",
     "output_type": "stream",
     "text": [
      "1 2 3 4 5 6 7 8 9 10 11 12 "
     ]
    }
   ],
   "source": [
    "#Function to print n natural numbers using while\n",
    "def nNatural(n):\n",
    "    c=1\n",
    "    while c<=n:\n",
    "        print(c,end=\" \")\n",
    "        c=c+1\n",
    "    return \n",
    "nNatural(12,)\n"
   ]
  },
  {
   "cell_type": "code",
   "execution_count": 59,
   "metadata": {},
   "outputs": [
    {
     "name": "stdout",
     "output_type": "stream",
     "text": [
      "4m6\n"
     ]
    }
   ],
   "source": [
    "print(4,end ='m')\n",
    "print(6)"
   ]
  },
  {
   "cell_type": "code",
   "execution_count": 62,
   "metadata": {},
   "outputs": [
    {
     "name": "stdout",
     "output_type": "stream",
     "text": [
      "66 72 78 84 90 96 102 108 114 120 126 132 138 144 "
     ]
    }
   ],
   "source": [
    "#Function to print all numbers divisible by 6 and not a factor of 100 in a given range(lb,ub)inclusive\n",
    "def divisible6(lb,ub):\n",
    "    for i in range(lb,ub):\n",
    "        if i%6==0 and 100%i!=0:\n",
    "            print(i,end=\" \")\n",
    "    return \n",
    "divisible6(65,150)\n",
    "        \n",
    "    \n"
   ]
  },
  {
   "cell_type": "code",
   "execution_count": 66,
   "metadata": {},
   "outputs": [
    {
     "data": {
      "text/plain": [
       "8.0"
      ]
     },
     "execution_count": 66,
     "metadata": {},
     "output_type": "execute_result"
    }
   ],
   "source": [
    "#Function to find the average of cubes of all even numbers in a given ranges(lb,ub)inclusive\n",
    "def avgcubeseven(lb,ub):\n",
    "    sum=0\n",
    "    c=0\n",
    "    for i in range(lb,ub+1):\n",
    "        if i % 2==0:\n",
    "            sum = sum+i**3\n",
    "            c=c+1\n",
    "    return sum/c\n",
    "avgcubeseven(1,2)\n"
   ]
  },
  {
   "cell_type": "code",
   "execution_count": 91,
   "metadata": {},
   "outputs": [
    {
     "name": "stdout",
     "output_type": "stream",
     "text": [
      "1 2 4 "
     ]
    }
   ],
   "source": [
    "#Function to generate list of factors for a given number l2= 1 2 3 4 6 12\n",
    "def factor(n):\n",
    "    for i in range(1,n//2+1):\n",
    "        if n % i==0:\n",
    "            print(i,end=\" \")\n",
    "    return\n",
    "factor(8)\n",
    "            "
   ]
  },
  {
   "cell_type": "code",
   "execution_count": 68,
   "metadata": {},
   "outputs": [
    {
     "data": {
      "text/plain": [
       "1"
      ]
     },
     "execution_count": 68,
     "metadata": {},
     "output_type": "execute_result"
    }
   ],
   "source": [
    "3//2"
   ]
  },
  {
   "cell_type": "code",
   "execution_count": 69,
   "metadata": {},
   "outputs": [
    {
     "data": {
      "text/plain": [
       "1.5"
      ]
     },
     "execution_count": 69,
     "metadata": {},
     "output_type": "execute_result"
    }
   ],
   "source": [
    "3/2"
   ]
  },
  {
   "cell_type": "code",
   "execution_count": 95,
   "metadata": {},
   "outputs": [
    {
     "name": "stdout",
     "output_type": "stream",
     "text": [
      "1\n",
      "2\n",
      "6\n",
      "24\n"
     ]
    },
    {
     "data": {
      "text/plain": [
       "24"
      ]
     },
     "execution_count": 95,
     "metadata": {},
     "output_type": "execute_result"
    }
   ],
   "source": [
    "#Function to calculate the factorial of a given number\n",
    "def factorial(n):\n",
    "    f=1\n",
    "    for i in range(1,n+1):\n",
    "        f*=i \n",
    "        print(f,\"e\")\n",
    "    return f\n",
    "factorial(4)"
   ]
  },
  {
   "cell_type": "code",
   "execution_count": null,
   "metadata": {},
   "outputs": [],
   "source": []
  },
  {
   "cell_type": "code",
   "execution_count": 1,
   "metadata": {},
   "outputs": [
    {
     "data": {
      "text/plain": [
       "False"
      ]
     },
     "execution_count": 1,
     "metadata": {},
     "output_type": "execute_result"
    }
   ],
   "source": [
    "#function to check if a given number is a prime\n",
    "def isprime(n):\n",
    "    flag=True\n",
    "    for i in range(2,n//2+1):\n",
    "        if n % i==0:\n",
    "            flag=False\n",
    "            return flag\n",
    "    return flag\n",
    "isprime(4)"
   ]
  },
  {
   "cell_type": "code",
   "execution_count": 105,
   "metadata": {},
   "outputs": [
    {
     "data": {
      "text/plain": [
       "3.3333333333333335"
      ]
     },
     "execution_count": 105,
     "metadata": {},
     "output_type": "execute_result"
    }
   ],
   "source": [
    "#Function to calculate the average of first n prime numbers\n",
    "def avgNprime(n):\n",
    "    primecount=0\n",
    "    sum=0\n",
    "    seqcount=2\n",
    "    while(primecount<n):\n",
    "        if isprime(seqcount):\n",
    "            primecount+=1\n",
    "            sum+=seqcount\n",
    "        seqcount +=1\n",
    "    return sum/n\n",
    "avgNprime(3)   "
   ]
  },
  {
   "cell_type": "code",
   "execution_count": 108,
   "metadata": {},
   "outputs": [
    {
     "name": "stdout",
     "output_type": "stream",
     "text": [
      "1\n",
      "2\n",
      "6\n",
      "24\n",
      "120\n",
      "720\n"
     ]
    },
    {
     "data": {
      "text/plain": [
       "False"
      ]
     },
     "execution_count": 108,
     "metadata": {},
     "output_type": "execute_result"
    }
   ],
   "source": [
    "#Function to generate the all perfect numbers in a given range\n",
    "def isperfect(n):\n",
    "    if factorial(n)==n:\n",
    "        return True\n",
    "    return False\n",
    "def generateperfact(lb,ub):\n",
    "    for i in range(lb,ub+1):\n",
    "        if isperfect(1):\n",
    "            print(i,end=\" \")\n",
    "    return \n",
    "generateperfact(1,500)"
   ]
  },
  {
   "cell_type": "code",
   "execution_count": null,
   "metadata": {},
   "outputs": [],
   "source": []
  }
 ],
 "metadata": {
  "kernelspec": {
   "display_name": "Python 3",
   "language": "python",
   "name": "python3"
  },
  "language_info": {
   "codemirror_mode": {
    "name": "ipython",
    "version": 3
   },
   "file_extension": ".py",
   "mimetype": "text/x-python",
   "name": "python",
   "nbconvert_exporter": "python",
   "pygments_lexer": "ipython3",
   "version": "3.7.3"
  }
 },
 "nbformat": 4,
 "nbformat_minor": 2
}
