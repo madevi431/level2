{
 "cells": [
  {
   "cell_type": "markdown",
   "metadata": {},
   "source": [
    "# Python Data Structures\n"
   ]
  },
  {
   "cell_type": "markdown",
   "metadata": {},
   "source": [
    "# Lists"
   ]
  },
  {
   "cell_type": "markdown",
   "metadata": {},
   "source": [
    "# it allowes to sturctured data\n",
    "# List - diffent group of data and mutable with []"
   ]
  },
  {
   "cell_type": "code",
   "execution_count": 8,
   "metadata": {},
   "outputs": [
    {
     "name": "stdout",
     "output_type": "stream",
     "text": [
      "2\n",
      "6\n",
      "[567, 345, 6, 4, 2]\n",
      "[2, 6, 567]\n",
      "[4, 345]\n"
     ]
    }
   ],
   "source": [
    "l1=[2,4,6,345,567]\n",
    "print(l1[0]) # accesing the element with index in a list\n",
    "print(l1[2])\n",
    "print(l1[::-1])# reverse of a list\n",
    "print(l1[::2])# even index elements\n",
    "print(l1[1::2])#odd index elements\n"
   ]
  },
  {
   "cell_type": "markdown",
   "metadata": {},
   "source": [
    "# List can be accesed ,manipulated in\n",
    "## 1.Direct Referencing-index[]\n",
    "## 2.Indirect Referencing-Function "
   ]
  },
  {
   "cell_type": "code",
   "execution_count": 96,
   "metadata": {},
   "outputs": [
    {
     "name": "stdout",
     "output_type": "stream",
     "text": [
      "2094\n",
      "999\n",
      "998\n",
      "6\n"
     ]
    },
    {
     "data": {
      "text/plain": [
       "[234, 234, 355, 240, 32, 999]"
      ]
     },
     "execution_count": 96,
     "metadata": {},
     "output_type": "execute_result"
    }
   ],
   "source": [
    "l1=[355,234,890]\n",
    "l1.append(345)# add element to end of list\n",
    "l1.insert(4,234)# add a element in a specific index\n",
    "l1.sort()#elemts can be in sorted\n",
    "l1.pop()#remove the last elements in list\n",
    "l1.pop(2)#remove the 2 index value\n",
    "l2=[240,32,999]\n",
    "l1.extend(l2)#merge list 2 into list1\n",
    "print(sum(l1))\n",
    "print(max(l1))\n",
    "print(max(l1)-1) #prints second max value\n",
    "print(len(l1))\n",
    "l1"
   ]
  },
  {
   "cell_type": "markdown",
   "metadata": {},
   "source": [
    "# average of List"
   ]
  },
  {
   "cell_type": "code",
   "execution_count": 46,
   "metadata": {},
   "outputs": [
    {
     "name": "stdout",
     "output_type": "stream",
     "text": [
      "349.0\n"
     ]
    },
    {
     "data": {
      "text/plain": [
       "6"
      ]
     },
     "execution_count": 46,
     "metadata": {},
     "output_type": "execute_result"
    }
   ],
   "source": [
    "print(sum(l1)/len(l1))\n",
    "sum(l1)\n",
    "len(l1)"
   ]
  },
  {
   "cell_type": "markdown",
   "metadata": {},
   "source": [
    "# Avg of list  in even postions"
   ]
  },
  {
   "cell_type": "code",
   "execution_count": 51,
   "metadata": {},
   "outputs": [
    {
     "name": "stdout",
     "output_type": "stream",
     "text": [
      "207.0\n"
     ]
    },
    {
     "data": {
      "text/plain": [
       "[234, 234, 355, 240, 32, 999]"
      ]
     },
     "execution_count": 51,
     "metadata": {},
     "output_type": "execute_result"
    }
   ],
   "source": [
    "print(sum(l1[::2])/len(l1[1::2]))\n",
    "l1"
   ]
  },
  {
   "cell_type": "code",
   "execution_count": 65,
   "metadata": {},
   "outputs": [
    {
     "name": "stdout",
     "output_type": "stream",
     "text": [
      "9\n",
      "7\n"
     ]
    },
    {
     "data": {
      "text/plain": [
       "[1, 2, 3, 4, 5]"
      ]
     },
     "execution_count": 65,
     "metadata": {},
     "output_type": "execute_result"
    }
   ],
   "source": [
    "#calculating lenth diffence normal even to odd positions and also from sum of even position also.\n",
    "l1=[1,2,3,4,5]\n",
    "odd=len(l1[1::2])\n",
    "even=sum(l1[::2])\n",
    "print(even)\n",
    "result=even-odd\n",
    "print(result)\n",
    "l1"
   ]
  },
  {
   "cell_type": "markdown",
   "metadata": {},
   "source": [
    "# Function to identify the second largest element in list\n",
    "  ## 1.Sort the data and select the second last element\n",
    "  ## 2.Sort the data in reverse and selects the second last element\n",
    "  ## 3.Remove the max element and then get max of the \n",
    " # Function to generate nth largest number\n"
   ]
  },
  {
   "cell_type": "code",
   "execution_count": 74,
   "metadata": {},
   "outputs": [
    {
     "name": "stdout",
     "output_type": "stream",
     "text": [
      "4\n",
      "3\n"
     ]
    },
    {
     "data": {
      "text/plain": [
       "[1, 2, 3, 4, 5]"
      ]
     },
     "execution_count": 74,
     "metadata": {},
     "output_type": "execute_result"
    }
   ],
   "source": [
    "def secondlargest(l1):\n",
    "    l1.sort()\n",
    "    return l1[-2]\n",
    "print(secondlargest(l1))\n",
    "l1\n",
    "def nlargenum(l1,n):\n",
    "    l1.sort()\n",
    "    return l1[-n]\n",
    "print(nlargenum(l1,3))\n",
    "l1"
   ]
  },
  {
   "cell_type": "code",
   "execution_count": 114,
   "metadata": {},
   "outputs": [
    {
     "data": {
      "text/plain": [
       "4"
      ]
     },
     "execution_count": 114,
     "metadata": {},
     "output_type": "execute_result"
    }
   ],
   "source": [
    "#Function to serch the key in a list\n",
    "l1=[123,222,4,8,33]\n",
    "def linearserch(l1,key):\n",
    "    for index in l1:     # for i in range(0,len(l1)):\n",
    "        if l1[index]==key:\n",
    "            return index\n",
    "    return -1\n",
    "#linearserch(l1,123)\n",
    "def linearsearch2(l1,key):\n",
    "    for element in l1:\n",
    "        if element==key:\n",
    "            return l1,index(element)\n",
    "    return -1\n",
    "def linearsearch3(l1,key):\n",
    "    if key in l1:\n",
    "        return l1.index(key)\n",
    "    return -1\n",
    "linearsearch3(l1,33)\n",
    "    "
   ]
  },
  {
   "cell_type": "code",
   "execution_count": 16,
   "metadata": {},
   "outputs": [
    {
     "name": "stdout",
     "output_type": "stream",
     "text": [
      "0\n",
      "0\n"
     ]
    }
   ],
   "source": [
    "# Function to count the occurances of a character in string\n",
    "#\"python programming\",m->2\n",
    "\n",
    "def countcharacters(s,c):     #manual codeing\n",
    "    count=0\n",
    "    for ch in s:\n",
    "        if ch==c:\n",
    "            count+=1\n",
    "    return count\n",
    "    n=10\n",
    "    r=n/len(s)\n",
    "    count=count*r\n",
    "    l = n % len(str)\n",
    "    for i in range(l):\n",
    "        if (s[i] == 'a'):\n",
    "            count += 1\n",
    "    return count\n",
    "print(countcharacters(\"abcabcdda\",\"ab\"))\n",
    "\n",
    "\n",
    "def countcharoccurances2(s,c):  # by using functions\n",
    "    return s.count(c)\n",
    "print(countcharoccurances2(\"python programming\",\"oo\",))\n",
    "        \n",
    "    "
   ]
  },
  {
   "cell_type": "code",
   "execution_count": 3,
   "metadata": {},
   "outputs": [
    {
     "name": "stdout",
     "output_type": "stream",
     "text": [
      "['1', '2', '3', '4', '5', '6']\n"
     ]
    },
    {
     "data": {
      "text/plain": [
       "[1, 2, 3, 4, 5, 6]"
      ]
     },
     "execution_count": 3,
     "metadata": {},
     "output_type": "execute_result"
    }
   ],
   "source": [
    "#1.input is string with range\n",
    "#2.output is a list with only integers \n",
    "\n",
    "S=\"1 2 3 4 5 6\"\n",
    "L1=S.split()\n",
    "print(L1)\n",
    "numlist=[]\n",
    "for i in L1:\n",
    "    numlist.append(int(i))\n",
    "numlist\n",
    "    \n"
   ]
  },
  {
   "cell_type": "markdown",
   "metadata": {},
   "source": [
    "Task1\n"
   ]
  },
  {
   "cell_type": "code",
   "execution_count": 4,
   "metadata": {},
   "outputs": [
    {
     "name": "stdout",
     "output_type": "stream",
     "text": [
      "3\n"
     ]
    },
    {
     "data": {
      "text/plain": [
       "14"
      ]
     },
     "execution_count": 4,
     "metadata": {},
     "output_type": "execute_result"
    }
   ],
   "source": [
    "n=int(input())\n",
    "\n",
    "def fun(n):\n",
    "    s=0\n",
    "    for i in range(1,n+1):\n",
    "        x=i**2\n",
    "        s=s+x\n",
    "    return s\n",
    "fun(n)"
   ]
  },
  {
   "cell_type": "code",
   "execution_count": 1,
   "metadata": {},
   "outputs": [
    {
     "ename": "SyntaxError",
     "evalue": "unexpected EOF while parsing (<ipython-input-1-621a395bc230>, line 14)",
     "output_type": "error",
     "traceback": [
      "\u001b[1;36m  File \u001b[1;32m\"<ipython-input-1-621a395bc230>\"\u001b[1;36m, line \u001b[1;32m14\u001b[0m\n\u001b[1;33m    \u001b[0m\n\u001b[1;37m    ^\u001b[0m\n\u001b[1;31mSyntaxError\u001b[0m\u001b[1;31m:\u001b[0m unexpected EOF while parsing\n"
     ]
    }
   ],
   "source": [
    "n=int(input())\n",
    "s=input()\n",
    "s=s.split()\n",
    "#\" 1 2 3 4 5\"\n",
    "l1=[]\n",
    "for i in range (1,s):\n",
    "    l1.append(int(i))\n",
    "def closet0(l1): #1000 100 1 2 3 4 0\n",
    "    #get all numbers <0\n",
    "    # all numbers>=0,get minimum\n",
    "    \n",
    "    \n",
    "    \n",
    "    "
   ]
  },
  {
   "cell_type": "code",
   "execution_count": null,
   "metadata": {},
   "outputs": [],
   "source": []
  }
 ],
 "metadata": {
  "kernelspec": {
   "display_name": "Python 3",
   "language": "python",
   "name": "python3"
  },
  "language_info": {
   "codemirror_mode": {
    "name": "ipython",
    "version": 3
   },
   "file_extension": ".py",
   "mimetype": "text/x-python",
   "name": "python",
   "nbconvert_exporter": "python",
   "pygments_lexer": "ipython3",
   "version": "3.7.3"
  }
 },
 "nbformat": 4,
 "nbformat_minor": 2
}
