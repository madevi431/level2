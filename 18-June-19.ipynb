{
 "cells": [
  {
   "cell_type": "markdown",
   "metadata": {},
   "source": [
    "# print the highest remainder number which is lesser than n\n",
    "\n",
    "### %<N and n%x==highest\n"
   ]
  },
  {
   "cell_type": "code",
   "execution_count": 16,
   "metadata": {},
   "outputs": [
    {
     "name": "stdout",
     "output_type": "stream",
     "text": [
      "3\n"
     ]
    }
   ],
   "source": [
    "def remainder(n):\n",
    "    hr=0\n",
    "    v=1\n",
    "    for i in range(1,n+1):\n",
    "        r=n%i\n",
    "        if r>hr:\n",
    "            hr=r\n",
    "            v=i\n",
    "    print(v)\n",
    "    return \n",
    "remainder(5)"
   ]
  },
  {
   "cell_type": "markdown",
   "metadata": {},
   "source": [
    "# string conve"
   ]
  },
  {
   "cell_type": "code",
   "execution_count": 43,
   "metadata": {},
   "outputs": [
    {
     "name": "stdout",
     "output_type": "stream",
     "text": [
      "4\n",
      "3\n",
      "[1, 2, 3]\n"
     ]
    }
   ],
   "source": [
    "n=int(input())\n",
    "s=input().split()\n",
    "#print(s)\n",
    "s1=[]\n",
    "for i in range(1,n):\n",
    "    for j in s:\n",
    "        s1.append(int(i))\n",
    "print(s1)\n",
    "def "
   ]
  },
  {
   "cell_type": "markdown",
   "metadata": {},
   "source": [
    "# Play with numbers"
   ]
  },
  {
   "cell_type": "code",
   "execution_count": 51,
   "metadata": {},
   "outputs": [
    {
     "name": "stdout",
     "output_type": "stream",
     "text": [
      "5 3\n",
      "1 2 3 4 5\n",
      "1 3\n",
      "2\n",
      "2 4\n",
      "3\n",
      "2 5\n",
      "3\n"
     ]
    }
   ],
   "source": [
    "n=input().split()\n",
    "n[0],n[1]=int(n[0]),int(n[1])\n",
    "a=input().split()\n",
    "sum=[]\n",
    "#cumulative sum\n",
    "for i in range (0,n[0]):\n",
    "    if i==0:\n",
    "        sum.append(int(a[i]))\n",
    "    else:\n",
    "        sum.append(int(sum[i-1])+int(a[i]))\n",
    "for k in range(0,n[1]):\n",
    "    inq=input().split()\n",
    "    i=int(inq[0])\n",
    "    j=int(inq[1])\n",
    "    if i>1:\n",
    "        print((sum[j-1]-sum[i-2]) //(j-i+1))\n",
    "    else:\n",
    "        print(sum[j-1]//(j-i+1))  "
   ]
  },
  {
   "cell_type": "markdown",
   "metadata": {},
   "source": [
    "# special number-it has distinct prime numbers& prime factors"
   ]
  },
  {
   "cell_type": "code",
   "execution_count": 4,
   "metadata": {},
   "outputs": [
    {
     "name": "stdout",
     "output_type": "stream",
     "text": [
      "factors2\n",
      "test case4\n",
      "n6\n",
      "YES\n",
      "n7\n",
      "NO\n",
      "n9\n",
      "NO\n",
      "n3\n",
      "NO\n"
     ]
    }
   ],
   "source": [
    "# function to check prime\n",
    "#function to determain number of prime factors for a given number\n",
    "def isprime(n):\n",
    "    flag=1 #intially number is prime thats y true if we found factors not prime(number dosent have factors)\n",
    "    if n==2:\n",
    "        return True\n",
    "    for i in range(2,n//2+1):\n",
    "        n%i==0\n",
    "        flag=0\n",
    "        return False\n",
    "    if flag==1:\n",
    "        return True\n",
    "#isprime(n)\n",
    "#no ofprime factors\n",
    "def numberPrimeFactors(n):\n",
    "    if isprime(n):\n",
    "        return 1\n",
    "    count =0\n",
    "    for i in range(2,n//2+1):\n",
    "        if isprime(i) and n%i==0:\n",
    "            count+=1\n",
    "    return count\n",
    "\n",
    "#numberPrimeFactors(n)     \n",
    "\n",
    "def isSpecialnumber(n,p):\n",
    "    if numberPrimeFactors(n)>=p:\n",
    "        return True\n",
    "    return False\n",
    "#isSpecialnumber(n,p)\n",
    "def solution2():\n",
    "    p=int(input(\"factors\"))\n",
    "    t=int(input(\"test case\"))\n",
    "    for i in range(0,t):\n",
    "        n=int(input(\"n\"))\n",
    "        if isSpecialnumber(n,p):\n",
    "            print(\"YES\")\n",
    "        else:\n",
    "            print(\"NO\")\n",
    "solution2()\n",
    "\n",
    "        \n",
    "    "
   ]
  },
  {
   "cell_type": "markdown",
   "metadata": {},
   "source": [
    "# "
   ]
  }
 ],
 "metadata": {
  "kernelspec": {
   "display_name": "Python 3",
   "language": "python",
   "name": "python3"
  },
  "language_info": {
   "codemirror_mode": {
    "name": "ipython",
    "version": 3
   },
   "file_extension": ".py",
   "mimetype": "text/x-python",
   "name": "python",
   "nbconvert_exporter": "python",
   "pygments_lexer": "ipython3",
   "version": "3.7.3"
  }
 },
 "nbformat": 4,
 "nbformat_minor": 2
}
