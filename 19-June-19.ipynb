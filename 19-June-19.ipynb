{
 "cells": [
  {
   "cell_type": "code",
   "execution_count": 1,
   "metadata": {},
   "outputs": [
    {
     "name": "stdout",
     "output_type": "stream",
     "text": [
      "5 6\n",
      "5 6\n",
      "<class 'int'> <class 'int'>\n"
     ]
    }
   ],
   "source": [
    "x,y=map(int,input().split())\n",
    "print(x,y)\n",
    "print(type(x),type(y))\n",
    "\n"
   ]
  },
  {
   "cell_type": "code",
   "execution_count": 8,
   "metadata": {},
   "outputs": [
    {
     "data": {
      "text/plain": [
       "{'key1': 'v1', 'key2': 'v2', 'key3': 'v3', 'newkey': (1, 2, 'hii')}"
      ]
     },
     "execution_count": 8,
     "metadata": {},
     "output_type": "execute_result"
    }
   ],
   "source": [
    "d={\"key1\":\"v1\",\"key2\":\"v2\",\"key3\":\"v3\"}\n",
    "d[\"newkey\"]=1,2,\"hii\"\n",
    "d\n"
   ]
  },
  {
   "cell_type": "code",
   "execution_count": 9,
   "metadata": {},
   "outputs": [],
   "source": [
    "Dict = { 5 : 'Welcome', 6 : 'To', 7 : 'Geeks', 'A' : {1 : 'Geeks', 2 : 'For', 3 : 'Geeks'}, 'B' : {1 : 'Geeks', 2 : 'Life'}} "
   ]
  },
  {
   "cell_type": "code",
   "execution_count": 10,
   "metadata": {},
   "outputs": [
    {
     "data": {
      "text/plain": [
       "{5: 'Welcome',\n",
       " 6: 'To',\n",
       " 7: 'Geeks',\n",
       " 'A': {1: 'Geeks', 2: 'For', 3: 'Geeks'},\n",
       " 'B': {1: 'Geeks', 2: 'Life'}}"
      ]
     },
     "execution_count": 10,
     "metadata": {},
     "output_type": "execute_result"
    }
   ],
   "source": [
    "Dict"
   ]
  },
  {
   "cell_type": "code",
   "execution_count": 12,
   "metadata": {},
   "outputs": [],
   "source": [
    "Dict = { 5 : 'Welcome', 6 : 'To', 7 : 'Geeks', 'A' : ( 'Geeks',  'For', 'Geeks')}"
   ]
  },
  {
   "cell_type": "code",
   "execution_count": 13,
   "metadata": {},
   "outputs": [
    {
     "data": {
      "text/plain": [
       "{5: 'Welcome', 6: 'To', 7: 'Geeks', 'A': ('Geeks', 'For', 'Geeks')}"
      ]
     },
     "execution_count": 13,
     "metadata": {},
     "output_type": "execute_result"
    }
   ],
   "source": [
    "Dict"
   ]
  },
  {
   "cell_type": "markdown",
   "metadata": {},
   "source": [
    "# function to anagrams"
   ]
  },
  {
   "cell_type": "code",
   "execution_count": 23,
   "metadata": {},
   "outputs": [
    {
     "name": "stdout",
     "output_type": "stream",
     "text": [
      "1\n",
      "abc\n",
      "cdd\n",
      "4\n"
     ]
    }
   ],
   "source": [
    "n=int(input())\n",
    "for i in range(n):\n",
    "    x=input()\n",
    "    y=input()\n",
    "    a1=[0]*26\n",
    "    b1=[0]*26\n",
    "    for i in x:\n",
    "        a1[ord(i)-97]+=1\n",
    "    for ele in y:\n",
    "        b1[ord(ele)-97]+=1\n",
    "    res=0\n",
    "    for i in range(26):\n",
    "        res=res+(abs(a1[i]-b1[i]))\n",
    "    print(res)\n"
   ]
  },
  {
   "cell_type": "markdown",
   "metadata": {},
   "source": [
    "# Find product"
   ]
  },
  {
   "cell_type": "code",
   "execution_count": 5,
   "metadata": {},
   "outputs": [
    {
     "name": "stdout",
     "output_type": "stream",
     "text": [
      "5\n",
      "1 2 3 4 5\n",
      "120\n"
     ]
    }
   ],
   "source": [
    "def product(l):\n",
    "    answer=1\n",
    "    mod=10**9+7\n",
    "    for j in l:\n",
    "        answer=(answer*j)%mod\n",
    "    print(answer)\n",
    "    \n",
    "\n",
    "x=int(input())\n",
    "l=input().split()\n",
    "for i in range(len(l)):\n",
    "    l[i]=int(l[i])\n",
    "product(l)\n"
   ]
  },
  {
   "cell_type": "code",
   "execution_count": 8,
   "metadata": {},
   "outputs": [
    {
     "name": "stdout",
     "output_type": "stream",
     "text": [
      "1 2 3 4  78 \n",
      "1\n",
      "2\n",
      "3\n",
      "4\n",
      "78\n"
     ]
    }
   ],
   "source": [
    "x=input().split()\n",
    "for i in range(len(x)):# to get a horizontal values of list of int from string\n",
    "    x[i]=int(x[i])\n",
    "    print(x[i])\n"
   ]
  },
  {
   "cell_type": "markdown",
   "metadata": {},
   "source": [
    "# Seating arrangement"
   ]
  },
  {
   "cell_type": "code",
   "execution_count": 12,
   "metadata": {},
   "outputs": [
    {
     "name": "stdout",
     "output_type": "stream",
     "text": [
      "1\n",
      "37\n",
      "48 ws\n"
     ]
    }
   ],
   "source": [
    "def seat(n):\n",
    "    if n>0 and n<108:\n",
    "        r=n%6\n",
    "        if r==1 or r==0:\n",
    "            print(n,\"ws\")\n",
    "        if r==:\n",
    "            print(n+11,\"ws\")\n",
    "            \n",
    "t=int(input())\n",
    "for i in range(t):\n",
    "    n=int(input())\n",
    "    seat(n)\n",
    "    \n",
    "    "
   ]
  },
  {
   "cell_type": "code",
   "execution_count": 8,
   "metadata": {},
   "outputs": [
    {
     "name": "stdout",
     "output_type": "stream",
     "text": [
      "1 3 4 5 6\n"
     ]
    },
    {
     "data": {
      "text/plain": [
       "['1', '3', '4', '5', '6']"
      ]
     },
     "execution_count": 8,
     "metadata": {},
     "output_type": "execute_result"
    }
   ],
   "source": [
    "l=input().split()\n",
    "l\n"
   ]
  },
  {
   "cell_type": "code",
   "execution_count": 12,
   "metadata": {},
   "outputs": [
    {
     "data": {
      "text/plain": [
       "[1, 27, 9, 5]"
      ]
     },
     "execution_count": 12,
     "metadata": {},
     "output_type": "execute_result"
    }
   ],
   "source": [
    "for i in range (len(l)):\n",
    "    l[i]=int(l[i])\n",
    "l"
   ]
  },
  {
   "cell_type": "code",
   "execution_count": 13,
   "metadata": {},
   "outputs": [
    {
     "name": "stdout",
     "output_type": "stream",
     "text": [
      "2\n",
      "18\n",
      "19 ws\n",
      "40\n",
      "45 as\n"
     ]
    }
   ],
   "source": [
    "def iswimdow(n):\n",
    "    if n%6==0 or n%6==1:\n",
    "        print(n,\"WS\")\n",
    "    elif n%6==2 or n%6==5:\n",
    "        print(n,\"MS\")\n",
    "    elif n%6==3 or n%6==4:\n",
    "        print(n,\"AS\")\n",
    "t=int(input())\n",
    "for i in range(0,t):\n",
    "    n=int(input())\n",
    "    s=n%12\n",
    "    if s==0:\n",
    "        n-=11\n",
    "    elif s<7:\n",
    "        n+=(2*(6-s)+1)\n",
    "    elif s>8:\n",
    "        n-=(2*(s-8)+1)\n",
    "    iswimdow(n)"
   ]
  },
  {
   "cell_type": "code",
   "execution_count": null,
   "metadata": {},
   "outputs": [],
   "source": []
  }
 ],
 "metadata": {
  "kernelspec": {
   "display_name": "Python 3",
   "language": "python",
   "name": "python3"
  },
  "language_info": {
   "codemirror_mode": {
    "name": "ipython",
    "version": 3
   },
   "file_extension": ".py",
   "mimetype": "text/x-python",
   "name": "python",
   "nbconvert_exporter": "python",
   "pygments_lexer": "ipython3",
   "version": "3.7.3"
  }
 },
 "nbformat": 4,
 "nbformat_minor": 2
}
