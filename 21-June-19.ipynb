{
 "cells": [
  {
   "cell_type": "markdown",
   "metadata": {},
   "source": [
    "# Ali Helping innocent people"
   ]
  },
  {
   "cell_type": "code",
   "execution_count": 11,
   "metadata": {},
   "outputs": [
    {
     "name": "stdout",
     "output_type": "stream",
     "text": [
      "12B345-67\n",
      "invalid\n"
     ]
    }
   ],
   "source": [
    "def helping(n):\n",
    "    f=\"A\",\"E\",\"I\",\"O\",\"U\",\"Y\"\n",
    "    a=int(n[0])+int(n[1])\n",
    "    b=n[2]\n",
    "    c=int(n[3])+int(n[4])\n",
    "    d=int(n[4])+int(n[5])\n",
    "    e=int(n[7])+int(n[8])\n",
    "    if a%2==0 and c%2==0 and e%2==0 and d%2==0 and (b not in f):\n",
    "        print(\"valid\")\n",
    "    else:\n",
    "        print(\"invalid\")\n",
    "\n",
    "n=input()\n",
    "helping(n)     "
   ]
  },
  {
   "cell_type": "markdown",
   "metadata": {},
   "source": [
    "# helping people by ali but all test cases are not statisfied"
   ]
  },
  {
   "cell_type": "code",
   "execution_count": 13,
   "metadata": {},
   "outputs": [
    {
     "name": "stdout",
     "output_type": "stream",
     "text": [
      "35D76-h7\n",
      "invalid\n"
     ]
    }
   ],
   "source": [
    "s=input()\n",
    "l=len(s)\n",
    "for i in range(l):\n",
    "    for j in range(i+1,l):\n",
    "        if((i!=\"A\" and i!=\"E\" and i!=\"I\" and i!=\"O\" and i!=\"U\" and i!=\"Y\")):\n",
    "            if((i==2 and (i+j)%2==0) and (i==4  and ((i+2)%2)==0) ):\n",
    "                print(\"Valid\")\n",
    "else:\n",
    "    print(\"invalid\")\n"
   ]
  },
  {
   "cell_type": "markdown",
   "metadata": {},
   "source": [
    "# Function to add contacts with phnvalidation and mail validation"
   ]
  },
  {
   "cell_type": "code",
   "execution_count": 53,
   "metadata": {},
   "outputs": [
    {
     "name": "stdout",
     "output_type": "stream",
     "text": [
      "details added to contacts\n"
     ]
    }
   ],
   "source": [
    "import re\n",
    "from Packages import validators as vald\n",
    "def addcontact(name,phone,email):\n",
    "    \n",
    "    #store data as name,phn,email in the contacts file\n",
    "    filename='data files\\contacts.txt'\n",
    "    if not checkcontactexist(name):\n",
    "        with open(filename,'a') as f:\n",
    "            l1=name+', '+str(phone)+' ,'+', '+email+'\\n'\n",
    "            f.write(l1)\n",
    "        print(name,\"details added to contacts\")\n",
    "    else:\n",
    "        print(name,\"already exist\")\n",
    "    return \n",
    "addcontact(\"nag\",983456756,\"nag431@gmail.com\")\n",
    "\n"
   ]
  },
  {
   "cell_type": "code",
   "execution_count": 64,
   "metadata": {},
   "outputs": [],
   "source": [
    "from Packages.validators import phnvalidation as phv "
   ]
  },
  {
   "cell_type": "markdown",
   "metadata": {},
   "source": [
    "# function to check if contact exist or not"
   ]
  },
  {
   "cell_type": "code",
   "execution_count": 69,
   "metadata": {},
   "outputs": [
    {
     "name": "stdout",
     "output_type": "stream",
     "text": [
      "siddu details added to contacts\n",
      "TRue\n"
     ]
    }
   ],
   "source": [
    "import re\n",
    "from Packages.validators import phnvalidation as phv\n",
    "from Packages.validators import mailvalidation  as ev\n",
    "def addcontact(name,phone,email):\n",
    "    \n",
    "    #store data as name,phn,email in the contacts file\n",
    "    filename='data files\\contacts.txt'\n",
    "    if not checkcontactexist(name):\n",
    "        if  phv(phone) and ev(email):\n",
    "            with open(filename,'a') as f:\n",
    "                l1=name+', '+str(phone)+' ,'+', '+email+'\\n'\n",
    "                f.write(l1)\n",
    "                print(name,\"details added to contacts\")\n",
    "        else:\n",
    "            print(\"invalid email and phn\")\n",
    "            return \n",
    "    else:\n",
    "        print(name,\"already exist\")\n",
    "    return \n",
    "addcontact(\"siddu\",9234567890,\"siddudad234_1hj@gmail.com\")\n",
    "\n",
    "\n",
    "#function to check if contact exist or not\n",
    "def checkcontactexist(name):\n",
    "    filename='data files\\contacts.txt'\n",
    "    with open (filename,'r')as f:\n",
    "        filedata=f.read()\n",
    "        pattern=name+','\n",
    "    return re.search(name,filedata)\n",
    "if checkcontactexist(\"madhu\"):\n",
    "    print(\"TRue\")\n",
    "else:\n",
    "    print(\"False\")\n",
    "\n",
    "    "
   ]
  },
  {
   "cell_type": "markdown",
   "metadata": {},
   "source": [
    "# Function to display csv and list to file"
   ]
  },
  {
   "cell_type": "code",
   "execution_count": 76,
   "metadata": {},
   "outputs": [
    {
     "data": {
      "text/plain": [
       "'name n, 4562345675 ,, madevi.md@gmail.com\\nname n, 4562345675 ,, madevi.md@gmail.com\\nname n, 4562345675 ,, madevi.md@gmail.com\\nmadhu, 983456756 ,, madevi.md@gmail.com\\nnag, 983456756 ,, nag431@gmail.com\\nnag, 983456756 ,, nag431@gmail.com\\nsumathi, 983456756 ,, nag431@gmail.com\\nsiddu, 9234567890 ,, siddudad234_1hj@gmail.com\\n'"
      ]
     },
     "execution_count": 76,
     "metadata": {},
     "output_type": "execute_result"
    }
   ],
   "source": [
    "filename=\"data files/contacts.txt\"\n",
    "def csvtolist(filename):\n",
    "    li=[]\n",
    "    with open(filename,'r') as f:\n",
    "        for i in f:\n",
    "            li.append(i.split(','))\n",
    "    return li\n",
    "li=csvtolist(filename)\n",
    "def listtofile(li):\n",
    "    s=''\n",
    "    for j in li:\n",
    "        s+=','.join(j)\n",
    "    return s\n",
    "listtofile(li)"
   ]
  },
  {
   "cell_type": "code",
   "execution_count": 42,
   "metadata": {},
   "outputs": [],
   "source": [
    "filename=\"data files/mycontacts1.txt\"\n",
    "x=open(filename,'a')\n",
    "x.write(\"\\nmad:,9834567:,email.34@.com\")\n",
    "x.close()"
   ]
  },
  {
   "cell_type": "code",
   "execution_count": 24,
   "metadata": {},
   "outputs": [
    {
     "name": "stdout",
     "output_type": "stream",
     "text": [
      "name:,mobile:,emailmadhu:,9834567:,email.34@.com\n",
      " madhu:,9834567:,email.34@.com "
     ]
    }
   ],
   "source": [
    "with open(filename,'r') as f:\n",
    "    #print(f.readlines())\n",
    "    for i in f.readlines():\n",
    "        print(i,end=\" \")"
   ]
  },
  {
   "cell_type": "markdown",
   "metadata": {},
   "source": [
    "# function to csv to list"
   ]
  },
  {
   "cell_type": "code",
   "execution_count": 54,
   "metadata": {},
   "outputs": [
    {
     "data": {
      "text/plain": [
       "[['name:', 'mobile:', 'email\\n'],\n",
       " ['madhu:', '9834567:', 'email.34@.com\\n'],\n",
       " ['madhu:', '9834567:', 'email.34@.com\\n'],\n",
       " ['mad:', '9834567:', 'email.34@.com']]"
      ]
     },
     "execution_count": 54,
     "metadata": {},
     "output_type": "execute_result"
    }
   ],
   "source": [
    "def csvtolist(filename):\n",
    "    filename=\"data files/mycontacts1.txt\"\n",
    "    with open(filename,'r') as f:\n",
    "        f1=[]\n",
    "        for i in f:\n",
    "             f1.append(i.split(sep=','))\n",
    "    return f1 \n",
    "csvtolist(filename)    \n",
    "            "
   ]
  },
  {
   "cell_type": "code",
   "execution_count": 52,
   "metadata": {},
   "outputs": [
    {
     "name": "stdout",
     "output_type": "stream",
     "text": [
      "mad:,9834567:,email.34@.com "
     ]
    }
   ],
   "source": [
    "def searchcontact(filename,name):\n",
    "    f1=listtocsv(filename)\n",
    "    f=0\n",
    "    for l1 in f1:\n",
    "        if name==l1[0]:\n",
    "            f=1\n",
    "            print(','.join(l1),end=\" \")\n",
    "    if f==0:\n",
    "        print(\"contact not found\")\n",
    "searchcontact(filename,\"mad:\")\n",
    "        \n",
    "        "
   ]
  },
  {
   "cell_type": "code",
   "execution_count": 55,
   "metadata": {},
   "outputs": [],
   "source": [
    "# Search for a  given name\n",
    "#if it is present remove the line in fl\n",
    "#else  print contact not found\n",
    "#part 2\n",
    "#call csvtolist\n",
    "#write the listtocsv o/p file\n"
   ]
  },
  {
   "cell_type": "code",
   "execution_count": 56,
   "metadata": {},
   "outputs": [
    {
     "name": "stdout",
     "output_type": "stream",
     "text": [
      "mad:,9834567:,email.34@.com "
     ]
    }
   ],
   "source": [
    "searchcontact(filename,\"mad:\")"
   ]
  },
  {
   "cell_type": "code",
   "execution_count": 57,
   "metadata": {},
   "outputs": [
    {
     "data": {
      "text/plain": [
       "-1"
      ]
     },
     "execution_count": 57,
     "metadata": {},
     "output_type": "execute_result"
    }
   ],
   "source": [
    "def searchcontactwithreturn(filename,name):\n",
    "    f1=csvtolist(filename)\n",
    "    f=0\n",
    "    for i in range(len(f1)):\n",
    "        if name==f1[1][0]:\n",
    "            f=1\n",
    "            return 1\n",
    "    if f==0:\n",
    "        return -1\n",
    "        print(\"contact not found\")\n",
    "searchcontactwithreturn(filename,\"mad:\")\n",
    "        \n",
    "        "
   ]
  },
  {
   "cell_type": "code",
   "execution_count": 60,
   "metadata": {},
   "outputs": [
    {
     "data": {
      "text/plain": [
       "'name:,mobile:,email\\nmadhu:,9834567:,email.34@.com\\nmadhu:,9834567:,email.34@.com\\nmad:,9834567:,email.34@.com'"
      ]
     },
     "execution_count": 60,
     "metadata": {},
     "output_type": "execute_result"
    }
   ],
   "source": [
    "li=csvtolist(filename)\n",
    "def listtofile(li):\n",
    "    s=''\n",
    "    for j in li:\n",
    "        s+=','.join(j)\n",
    "    return s\n",
    "listtofile(li)"
   ]
  },
  {
   "cell_type": "code",
   "execution_count": 64,
   "metadata": {},
   "outputs": [
    {
     "ename": "IndexError",
     "evalue": "list index out of range",
     "output_type": "error",
     "traceback": [
      "\u001b[1;31m---------------------------------------------------------------------------\u001b[0m",
      "\u001b[1;31mIndexError\u001b[0m                                Traceback (most recent call last)",
      "\u001b[1;32m<ipython-input-64-df727b3a1091>\u001b[0m in \u001b[0;36m<module>\u001b[1;34m\u001b[0m\n\u001b[0;32m      9\u001b[0m     \u001b[1;32melse\u001b[0m\u001b[1;33m:\u001b[0m\u001b[1;33m\u001b[0m\u001b[1;33m\u001b[0m\u001b[0m\n\u001b[0;32m     10\u001b[0m         \u001b[0mprint\u001b[0m\u001b[1;33m(\u001b[0m\u001b[1;34m\"contact not found\"\u001b[0m\u001b[1;33m)\u001b[0m\u001b[1;33m\u001b[0m\u001b[1;33m\u001b[0m\u001b[0m\n\u001b[1;32m---> 11\u001b[1;33m \u001b[0mremovecontact\u001b[0m\u001b[1;33m(\u001b[0m\u001b[0mfilename\u001b[0m\u001b[1;33m,\u001b[0m\u001b[1;34m\"siddu:\"\u001b[0m\u001b[1;33m)\u001b[0m\u001b[1;33m\u001b[0m\u001b[1;33m\u001b[0m\u001b[0m\n\u001b[0m",
      "\u001b[1;32m<ipython-input-64-df727b3a1091>\u001b[0m in \u001b[0;36mremovecontact\u001b[1;34m(filename, name)\u001b[0m\n\u001b[0;32m      1\u001b[0m \u001b[1;32mdef\u001b[0m \u001b[0mremovecontact\u001b[0m\u001b[1;33m(\u001b[0m\u001b[0mfilename\u001b[0m\u001b[1;33m,\u001b[0m\u001b[0mname\u001b[0m\u001b[1;33m)\u001b[0m\u001b[1;33m:\u001b[0m\u001b[1;33m\u001b[0m\u001b[1;33m\u001b[0m\u001b[0m\n\u001b[1;32m----> 2\u001b[1;33m     \u001b[0mi\u001b[0m\u001b[1;33m=\u001b[0m\u001b[0msearchcontactwithreturn\u001b[0m\u001b[1;33m(\u001b[0m\u001b[0mfilename\u001b[0m\u001b[1;33m,\u001b[0m\u001b[0mname\u001b[0m\u001b[1;33m)\u001b[0m\u001b[1;33m\u001b[0m\u001b[1;33m\u001b[0m\u001b[0m\n\u001b[0m\u001b[0;32m      3\u001b[0m     \u001b[1;32mif\u001b[0m \u001b[0mi\u001b[0m\u001b[1;33m!=\u001b[0m\u001b[1;36m1\u001b[0m\u001b[1;33m:\u001b[0m\u001b[1;33m\u001b[0m\u001b[1;33m\u001b[0m\u001b[0m\n\u001b[0;32m      4\u001b[0m         \u001b[0mf1\u001b[0m\u001b[1;33m=\u001b[0m\u001b[0mcsvtolist\u001b[0m\u001b[1;33m(\u001b[0m\u001b[0mfilename\u001b[0m\u001b[1;33m)\u001b[0m\u001b[1;33m\u001b[0m\u001b[1;33m\u001b[0m\u001b[0m\n\u001b[0;32m      5\u001b[0m         \u001b[0mf1\u001b[0m\u001b[1;33m.\u001b[0m\u001b[0mpop\u001b[0m\u001b[1;33m(\u001b[0m\u001b[0mi\u001b[0m\u001b[1;33m)\u001b[0m\u001b[1;33m\u001b[0m\u001b[1;33m\u001b[0m\u001b[0m\n",
      "\u001b[1;32m<ipython-input-57-b405b5c57a33>\u001b[0m in \u001b[0;36msearchcontactwithreturn\u001b[1;34m(filename, name)\u001b[0m\n\u001b[0;32m      3\u001b[0m     \u001b[0mf\u001b[0m\u001b[1;33m=\u001b[0m\u001b[1;36m0\u001b[0m\u001b[1;33m\u001b[0m\u001b[1;33m\u001b[0m\u001b[0m\n\u001b[0;32m      4\u001b[0m     \u001b[1;32mfor\u001b[0m \u001b[0mi\u001b[0m \u001b[1;32min\u001b[0m \u001b[0mrange\u001b[0m\u001b[1;33m(\u001b[0m\u001b[0mlen\u001b[0m\u001b[1;33m(\u001b[0m\u001b[0mf1\u001b[0m\u001b[1;33m)\u001b[0m\u001b[1;33m)\u001b[0m\u001b[1;33m:\u001b[0m\u001b[1;33m\u001b[0m\u001b[1;33m\u001b[0m\u001b[0m\n\u001b[1;32m----> 5\u001b[1;33m         \u001b[1;32mif\u001b[0m \u001b[0mname\u001b[0m\u001b[1;33m==\u001b[0m\u001b[0mf1\u001b[0m\u001b[1;33m[\u001b[0m\u001b[1;36m1\u001b[0m\u001b[1;33m]\u001b[0m\u001b[1;33m[\u001b[0m\u001b[1;36m0\u001b[0m\u001b[1;33m]\u001b[0m\u001b[1;33m:\u001b[0m\u001b[1;33m\u001b[0m\u001b[1;33m\u001b[0m\u001b[0m\n\u001b[0m\u001b[0;32m      6\u001b[0m             \u001b[0mf\u001b[0m\u001b[1;33m=\u001b[0m\u001b[1;36m1\u001b[0m\u001b[1;33m\u001b[0m\u001b[1;33m\u001b[0m\u001b[0m\n\u001b[0;32m      7\u001b[0m             \u001b[1;32mreturn\u001b[0m \u001b[1;36m1\u001b[0m\u001b[1;33m\u001b[0m\u001b[1;33m\u001b[0m\u001b[0m\n",
      "\u001b[1;31mIndexError\u001b[0m: list index out of range"
     ]
    }
   ],
   "source": [
    "def removecontact(filename,name):\n",
    "    i=searchcontactwithreturn(filename,name)\n",
    "    if i!=1:\n",
    "        f1=csvtolist(filename)\n",
    "        f1.pop(i)\n",
    "        s=listtofile(f1)\n",
    "        with open(filename,'w') as f:\n",
    "            f.write(s)\n",
    "    else:\n",
    "        print(\"contact not found\")\n",
    "removecontact(filename,\"siddu:\")"
   ]
  },
  {
   "cell_type": "code",
   "execution_count": 77,
   "metadata": {},
   "outputs": [
    {
     "name": "stdout",
     "output_type": "stream",
     "text": [
      "3\n",
      "1\n",
      "1\n",
      "A\n",
      "3\n",
      "3\n",
      "A\n",
      "5\n",
      "B\n"
     ]
    }
   ],
   "source": [
    "def lift(n):\n",
    "    A=0\n",
    "    B=7\n",
    "    if n<=(A+B//2):\n",
    "        A=n\n",
    "        print(n)\n",
    "        print(\"A\")\n",
    "    elif n>=(A+B//2):\n",
    "        print(\"B\")\n",
    "    elif A==n:\n",
    "        print(\"A\")\n",
    "        \n",
    "t=int(input())\n",
    "for i in range(t):\n",
    "    n=int(input())\n",
    "    lift(n)\n",
    "    "
   ]
  },
  {
   "cell_type": "markdown",
   "metadata": {},
   "source": [
    "###### "
   ]
  }
 ],
 "metadata": {
  "kernelspec": {
   "display_name": "Python 3",
   "language": "python",
   "name": "python3"
  },
  "language_info": {
   "codemirror_mode": {
    "name": "ipython",
    "version": 3
   },
   "file_extension": ".py",
   "mimetype": "text/x-python",
   "name": "python",
   "nbconvert_exporter": "python",
   "pygments_lexer": "ipython3",
   "version": "3.7.3"
  }
 },
 "nbformat": 4,
 "nbformat_minor": 2
}
