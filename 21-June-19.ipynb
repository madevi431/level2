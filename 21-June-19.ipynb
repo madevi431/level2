{
 "cells": [
  {
   "cell_type": "markdown",
   "metadata": {},
   "source": [
    "# Ali Helping innocent people"
   ]
  },
  {
   "cell_type": "code",
   "execution_count": 11,
   "metadata": {},
   "outputs": [
    {
     "name": "stdout",
     "output_type": "stream",
     "text": [
      "12B345-67\n",
      "invalid\n"
     ]
    }
   ],
   "source": [
    "def helping(n):\n",
    "    f=\"A\",\"E\",\"I\",\"O\",\"U\",\"Y\"\n",
    "    a=int(n[0])+int(n[1])\n",
    "    b=n[2]\n",
    "    c=int(n[3])+int(n[4])\n",
    "    d=int(n[4])+int(n[5])\n",
    "    e=int(n[7])+int(n[8])\n",
    "    if a%2==0 and c%2==0 and e%2==0 and d%2==0 and (b not in f):\n",
    "        print(\"valid\")\n",
    "    else:\n",
    "        print(\"invalid\")\n",
    "\n",
    "n=input()\n",
    "helping(n)     "
   ]
  },
  {
   "cell_type": "markdown",
   "metadata": {},
   "source": [
    "# helping people by ali but all test cases are not statisfied"
   ]
  },
  {
   "cell_type": "code",
   "execution_count": 13,
   "metadata": {},
   "outputs": [
    {
     "name": "stdout",
     "output_type": "stream",
     "text": [
      "35D76-h7\n",
      "invalid\n"
     ]
    }
   ],
   "source": [
    "s=input()\n",
    "l=len(s)\n",
    "for i in range(l):\n",
    "    for j in range(i+1,l):\n",
    "        if((i!=\"A\" and i!=\"E\" and i!=\"I\" and i!=\"O\" and i!=\"U\" and i!=\"Y\")):\n",
    "            if((i==2 and (i+j)%2==0) and (i==4  and ((i+2)%2)==0) ):\n",
    "                print(\"Valid\")\n",
    "else:\n",
    "    print(\"invalid\")\n"
   ]
  },
  {
   "cell_type": "markdown",
   "metadata": {},
   "source": [
    "# Function to add contacts with phnvalidation and mail validation"
   ]
  },
  {
   "cell_type": "code",
   "execution_count": 53,
   "metadata": {},
   "outputs": [
    {
     "name": "stdout",
     "output_type": "stream",
     "text": [
      "details added to contacts\n"
     ]
    }
   ],
   "source": [
    "import re\n",
    "from Packages import validators as vald\n",
    "def addcontact(name,phone,email):\n",
    "    \n",
    "    #store data as name,phn,email in the contacts file\n",
    "    filename='data files\\contacts.txt'\n",
    "    if not checkcontactexist(name):\n",
    "        with open(filename,'a') as f:\n",
    "            l1=name+', '+str(phone)+' ,'+', '+email+'\\n'\n",
    "            f.write(l1)\n",
    "        print(name,\"details added to contacts\")\n",
    "    else:\n",
    "        print(name,\"already exist\")\n",
    "    return \n",
    "addcontact(\"nag\",983456756,\"nag431@gmail.com\")\n",
    "\n"
   ]
  },
  {
   "cell_type": "code",
   "execution_count": 64,
   "metadata": {},
   "outputs": [],
   "source": [
    "from Packages.validators import phnvalidation as phv "
   ]
  },
  {
   "cell_type": "code",
   "execution_count": 3,
   "metadata": {},
   "outputs": [
    {
     "name": "stdout",
     "output_type": "stream",
     "text": [
      "False\n"
     ]
    }
   ],
   "source": [
    "def checkcontactexist(name):\n",
    "    filename='data files\\mycontacts1.txt'\n",
    "    with open (filename,'r')as f:\n",
    "        filedata=f.read()\n",
    "        pattern=name+','\n",
    "    return re.search(name,filedata)\n",
    "if checkcontactexist(\"madhu\"):\n",
    "    print(\"TRue\")\n",
    "else:\n",
    "    print(\"False\")\n"
   ]
  },
  {
   "cell_type": "markdown",
   "metadata": {},
   "source": [
    "# function to check if contact exist or not"
   ]
  },
  {
   "cell_type": "code",
   "execution_count": 6,
   "metadata": {},
   "outputs": [
    {
     "name": "stdout",
     "output_type": "stream",
     "text": [
      "sumathi details added to contacts\n"
     ]
    }
   ],
   "source": [
    "import re\n",
    "from Packages.validators import phnvalidation as phv\n",
    "from Packages.validators import mailvalidation  as ev\n",
    "def addcontact(name,phone,email):\n",
    "    \n",
    "    #store data as name,phn,email in the contacts file\n",
    "    filename='data files\\mycontacts1.txt'\n",
    "    if not checkcontactexist(name):\n",
    "        if  phv(phone) and ev(email):\n",
    "            with open(filename,'a') as f:\n",
    "                l1=name+', '+str(phone)+' ,'+', '+email+'\\n'\n",
    "                f.write(l1)\n",
    "                print(name,\"details added to contacts\")\n",
    "        else:\n",
    "            print(\"invalid email and phn\")\n",
    "            return \n",
    "    else:\n",
    "        print(name,\"already exist\")\n",
    "    return \n",
    "addcontact(\"sumathi\",9234567890,\"siddudad234_1hj@gmail.com\")\n",
    "\n",
    "    "
   ]
  },
  {
   "cell_type": "markdown",
   "metadata": {},
   "source": [
    "# Function to display csv and list to file"
   ]
  },
  {
   "cell_type": "code",
   "execution_count": 9,
   "metadata": {},
   "outputs": [
    {
     "name": "stdout",
     "output_type": "stream",
     "text": [
      "[['name:', 'mobile:', 'email\\n'], ['siddu', ' 9234567890 ', '', ' siddudad234_1hj@gmail.com\\n'], ['sumathi', ' 9234567890 ', '', ' siddudad234_1hj@gmail.com\\n']]\n"
     ]
    },
    {
     "data": {
      "text/plain": [
       "'name:,mobile:,email\\nsiddu, 9234567890 ,, siddudad234_1hj@gmail.com\\nsumathi, 9234567890 ,, siddudad234_1hj@gmail.com\\n'"
      ]
     },
     "execution_count": 9,
     "metadata": {},
     "output_type": "execute_result"
    }
   ],
   "source": [
    "filename=\"data files/mycontacts1.txt\"\n",
    "def csvtolist(filename):\n",
    "    li=[]\n",
    "    with open(filename,'r') as f:\n",
    "        for i in f:\n",
    "            li.append(i.split(','))\n",
    "    return li\n",
    "print(csvtolist(filename))\n",
    "li=csvtolist(filename)\n",
    "def listtofile(li):\n",
    "    s=''\n",
    "    for j in li:\n",
    "        s+=','.join(j)\n",
    "    return s\n",
    "listtofile(li)"
   ]
  },
  {
   "cell_type": "code",
   "execution_count": 10,
   "metadata": {},
   "outputs": [],
   "source": [
    "filename=\"data files/mycontacts1.txt\"\n",
    "x=open(filename,'a')\n",
    "x.write(\"\\nmad:,9834567:,email.34@.com\")\n",
    "x.close()"
   ]
  },
  {
   "cell_type": "code",
   "execution_count": 24,
   "metadata": {},
   "outputs": [
    {
     "name": "stdout",
     "output_type": "stream",
     "text": [
      "name:,mobile:,emailmadhu:,9834567:,email.34@.com\n",
      " madhu:,9834567:,email.34@.com "
     ]
    }
   ],
   "source": [
    "with open(filename,'r') as f:\n",
    "    #print(f.readlines())\n",
    "    for i in f.readlines():\n",
    "        print(i,end=\" \")"
   ]
  },
  {
   "cell_type": "markdown",
   "metadata": {},
   "source": [
    "# function to csv to list"
   ]
  },
  {
   "cell_type": "code",
   "execution_count": 11,
   "metadata": {},
   "outputs": [
    {
     "data": {
      "text/plain": [
       "[['name:', 'mobile:', 'email\\n'],\n",
       " ['siddu', ' 9234567890 ', '', ' siddudad234_1hj@gmail.com\\n'],\n",
       " ['sumathi', ' 9234567890 ', '', ' siddudad234_1hj@gmail.com\\n'],\n",
       " ['\\n'],\n",
       " ['mad:', '9834567:', 'email.34@.com']]"
      ]
     },
     "execution_count": 11,
     "metadata": {},
     "output_type": "execute_result"
    }
   ],
   "source": [
    "def csvtolist(filename):\n",
    "    filename=\"data files/mycontacts1.txt\"\n",
    "    with open(filename,'r') as f:\n",
    "        f1=[]b\n",
    "        for i in f:\n",
    "             f1.append(i.split(sep=','))\n",
    "    return f1 \n",
    "csvtolist(filename)    \n",
    "            "
   ]
  },
  {
   "cell_type": "code",
   "execution_count": 24,
   "metadata": {},
   "outputs": [
    {
     "data": {
      "text/plain": [
       "'name:,mobile:,email\\nsiddu, 9234567890 ,, siddudad234_1hj@gmail.com\\nsumathi, 9234567890 ,, siddudad234_1hj@gmail.com\\n\\nmad:,9834567:,email.34@.com'"
      ]
     },
     "execution_count": 24,
     "metadata": {},
     "output_type": "execute_result"
    }
   ],
   "source": [
    "li=csvtolist(filename)\n",
    "def listtofile(li):\n",
    "    s=''\n",
    "    for j in li:\n",
    "        s+=','.join(j)\n",
    "    return s\n",
    "listtofile(li)"
   ]
  },
  {
   "cell_type": "markdown",
   "metadata": {},
   "source": [
    "# Function to search contact is theire or not"
   ]
  },
  {
   "cell_type": "code",
   "execution_count": 36,
   "metadata": {},
   "outputs": [
    {
     "name": "stdout",
     "output_type": "stream",
     "text": [
      "mad:,9834567:,email.34@.com "
     ]
    }
   ],
   "source": [
    "def searchcontact(filename,name):\n",
    "    filename=\"data files/mycontacts1.txt\"\n",
    "    f1=csvtolist(filename)\n",
    "    #print(f1)\n",
    "    f=0\n",
    "    for i in f1:\n",
    "        if name==i[0]:\n",
    "            f=1\n",
    "            print(','.join(i),end=\" \")\n",
    "    if f==0:\n",
    "        print(\"contact not found\")\n",
    "searchcontact(filename,\"mad:\")\n",
    "        \n",
    "        "
   ]
  },
  {
   "cell_type": "code",
   "execution_count": 29,
   "metadata": {},
   "outputs": [
    {
     "data": {
      "text/plain": [
       "'data files/mycontacts1.txt'"
      ]
     },
     "execution_count": 29,
     "metadata": {},
     "output_type": "execute_result"
    }
   ],
   "source": [
    "filename"
   ]
  },
  {
   "cell_type": "code",
   "execution_count": 55,
   "metadata": {},
   "outputs": [],
   "source": [
    "# Search for a  given name\n",
    "#if it is present remove the line in fl\n",
    "#else  print contact not found\n",
    "#part 2\n",
    "#call csvtolist\n",
    "#write the listtocsv o/p file\n"
   ]
  },
  {
   "cell_type": "code",
   "execution_count": 37,
   "metadata": {},
   "outputs": [
    {
     "name": "stdout",
     "output_type": "stream",
     "text": [
      "mad:,9834567:,email.34@.com "
     ]
    }
   ],
   "source": [
    "searchcontact(filename,\"mad:\")"
   ]
  },
  {
   "cell_type": "markdown",
   "metadata": {},
   "source": [
    "#  Function  to return index value of contact with search"
   ]
  },
  {
   "cell_type": "code",
   "execution_count": 46,
   "metadata": {},
   "outputs": [
    {
     "data": {
      "text/plain": [
       "1"
      ]
     },
     "execution_count": 46,
     "metadata": {},
     "output_type": "execute_result"
    }
   ],
   "source": [
    "def searchcontactwithreturn(filename,name):\n",
    "    f1=csvtolist(filename)\n",
    "    f=0\n",
    "    for i in range(len(f1)):\n",
    "        if name==f1[i][0]:\n",
    "            f=1\n",
    "            return i\n",
    "    if f==0:\n",
    "        return -1\n",
    "        print(\"contact not found\")\n",
    "searchcontactwithreturn(filename,\"siddu\")\n",
    "        \n",
    "        "
   ]
  },
  {
   "cell_type": "code",
   "execution_count": 49,
   "metadata": {},
   "outputs": [],
   "source": [
    "def removecontact(filename,name):\n",
    "    i=searchcontactwithreturn(filename,name)\n",
    "    if i!=-1:\n",
    "        f1=csvtolist(filename)\n",
    "        f1.pop(i)\n",
    "        s=listtofile(f1)\n",
    "        with open(filename,'w') as f:\n",
    "            f.write(s)\n",
    "    else:\n",
    "        print(\"contact not found\")\n",
    "removecontact(filename,\"siddu\")"
   ]
  },
  {
   "cell_type": "code",
   "execution_count": null,
   "metadata": {},
   "outputs": [],
   "source": []
  }
 ],
 "metadata": {
  "kernelspec": {
   "display_name": "Python 3",
   "language": "python",
   "name": "python3"
  },
  "language_info": {
   "codemirror_mode": {
    "name": "ipython",
    "version": 3
   },
   "file_extension": ".py",
   "mimetype": "text/x-python",
   "name": "python",
   "nbconvert_exporter": "python",
   "pygments_lexer": "ipython3",
   "version": "3.7.3"
  }
 },
 "nbformat": 4,
 "nbformat_minor": 2
}
