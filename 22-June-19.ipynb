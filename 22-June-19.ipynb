{
 "cells": [
  {
   "cell_type": "markdown",
   "metadata": {},
   "source": [
    "## Basic File data processing\n",
    "#### -->Accessing and modifying data\n",
    "#### >Character Count\n",
    "#### >Line count\n",
    "#### >File size\n",
    "#### >Word count\n",
    "#### >Unique word count"
   ]
  },
  {
   "cell_type": "code",
   "execution_count": 1,
   "metadata": {},
   "outputs": [],
   "source": [
    "# Read file means theire a existance of file in a location\n",
    "#Write to a file means>existing(append mode) or newfile(write mode)"
   ]
  },
  {
   "cell_type": "markdown",
   "metadata": {},
   "source": [
    "# Function to print content of afile or read the file"
   ]
  },
  {
   "cell_type": "code",
   "execution_count": 11,
   "metadata": {},
   "outputs": [
    {
     "name": "stdout",
     "output_type": "stream",
     "text": [
      "name:,mobile:,email\n",
      "sumathi, 9234567890 ,, siddudad234_1hj@gmail.com\n",
      "\n",
      "\n"
     ]
    }
   ],
   "source": [
    "def checkopen(fname):\n",
    "    with open(fname,'r') as m:\n",
    "        x=m.read()\n",
    "    return x\n",
    "    \n",
    "fname=\"data files/mycontacts1.txt\"\n",
    "print(checkopen(fname))\n",
    "    "
   ]
  },
  {
   "cell_type": "markdown",
   "metadata": {},
   "source": [
    "# Function to Character count of a file"
   ]
  },
  {
   "cell_type": "code",
   "execution_count": 45,
   "metadata": {},
   "outputs": [
    {
     "name": "stdout",
     "output_type": "stream",
     "text": [
      "66\n"
     ]
    }
   ],
   "source": [
    "def charcount(filename):\n",
    "    c=0\n",
    "    with open(filename,'r') as f:\n",
    "        for i in f:\n",
    "            c=c+len(i)\n",
    "        print(c)\n",
    "filename=\"data files/taskhelp.txt\"\n",
    "charcount(filename)"
   ]
  },
  {
   "cell_type": "markdown",
   "metadata": {},
   "source": [
    "# Function to  lines count of a file"
   ]
  },
  {
   "cell_type": "code",
   "execution_count": 46,
   "metadata": {},
   "outputs": [
    {
     "name": "stdout",
     "output_type": "stream",
     "text": [
      "4\n"
     ]
    }
   ],
   "source": [
    "def countoflines(filename):\n",
    "    lines=1\n",
    "    with open(filename,'r') as f:\n",
    "        for i in f.read():\n",
    "            if(i=='\\n'):\n",
    "                lines=lines+1\n",
    "        print(lines)\n",
    "countoflines(filename)\n"
   ]
  },
  {
   "cell_type": "markdown",
   "metadata": {},
   "source": [
    "# Function to return the words count of a file"
   ]
  },
  {
   "cell_type": "code",
   "execution_count": 59,
   "metadata": {},
   "outputs": [],
   "source": [
    "def countofwords(filename):\n",
    "    with open(filename,'r') as f:\n",
    "        w=1 #because space(-) separate 2 words in fornt of starting word we dont have a space so s=1\n",
    "        for i in f.read():\n",
    "            if(i==' ') or (i=='\\n'):# checking space and also \\n then word count increses\n",
    "                w=w+1\n",
    "        print(w)\n",
    "filename=\"data files/taskhelp.txt\"\n",
    "#countofwords(filename)\n"
   ]
  },
  {
   "cell_type": "markdown",
   "metadata": {},
   "source": [
    "# Function to return the size of file"
   ]
  },
  {
   "cell_type": "code",
   "execution_count": 50,
   "metadata": {},
   "outputs": [
    {
     "data": {
      "text/plain": [
       "66"
      ]
     },
     "execution_count": 50,
     "metadata": {},
     "output_type": "execute_result"
    }
   ],
   "source": [
    "import os\n",
    "filename=\"data files/taskhelp.txt\"\n",
    "os.path.getsize(filename)\n"
   ]
  },
  {
   "cell_type": "code",
   "execution_count": 53,
   "metadata": {},
   "outputs": [
    {
     "name": "stdout",
     "output_type": "stream",
     "text": [
      "12\n"
     ]
    }
   ],
   "source": [
    "print(len(set(w.lower() for w in open(filename).read().split())))"
   ]
  },
  {
   "cell_type": "code",
   "execution_count": 68,
   "metadata": {},
   "outputs": [
    {
     "data": {
      "text/plain": [
       "['hiii',\n",
       " 'hello',\n",
       " 'hiii',\n",
       " 'how',\n",
       " 'are',\n",
       " 'you',\n",
       " 'checking',\n",
       " 'the',\n",
       " 'parameters',\n",
       " 'of',\n",
       " 'a',\n",
       " 'file',\n",
       " 'handling',\n",
       " 'hello']"
      ]
     },
     "execution_count": 68,
     "metadata": {},
     "output_type": "execute_result"
    }
   ],
   "source": [
    "[w.lower() for w in open(filename).read().split()]"
   ]
  },
  {
   "cell_type": "markdown",
   "metadata": {},
   "source": [
    "# Function to count the unique values count by convert list to string(having unique data)"
   ]
  },
  {
   "cell_type": "code",
   "execution_count": 64,
   "metadata": {},
   "outputs": [
    {
     "name": "stdout",
     "output_type": "stream",
     "text": [
      "['hiii', 'hello', 'hiii', 'how', 'are', 'you', 'checking', 'the', 'parameters', 'of', 'a', 'file', 'handling', 'hello']\n"
     ]
    },
    {
     "data": {
      "text/plain": [
       "12"
      ]
     },
     "execution_count": 64,
     "metadata": {},
     "output_type": "execute_result"
    }
   ],
   "source": [
    "filename=\"data files/taskhelp.txt\"\n",
    "with open(filename,'r') as f:\n",
    "    x=f.read()\n",
    "    y=x.split()\n",
    "    print(y)\n",
    "z=set(y)#asigned all words to set\n",
    "len(z)#count of unique words count"
   ]
  },
  {
   "cell_type": "markdown",
   "metadata": {},
   "source": [
    "# Function to return numbers to a file witha new line in a shell (read mode)"
   ]
  },
  {
   "cell_type": "code",
   "execution_count": 82,
   "metadata": {},
   "outputs": [
    {
     "name": "stdout",
     "output_type": "stream",
     "text": [
      "1.sdfghjkl\n",
      " 2.efgbn \n",
      " 3.ghjk\n",
      " 4.xtdcfyvgubihnjomuhgedfgbhnjmk\n",
      " 5.jhdgiolsjfin\n",
      " 6.snbfdfkhk "
     ]
    }
   ],
   "source": [
    "with open(\"data files\\sample.txt\") as fh:\n",
    "    l=fh.readlines()\n",
    "    lineno=1\n",
    "    for i in l:\n",
    "        print(lineno,i,end=\" \",sep=\".\")\n",
    "        lineno+=1\n",
    "        fh"
   ]
  },
  {
   "cell_type": "markdown",
   "metadata": {},
   "source": [
    "# Function to add numbers to the lines ina file by using \"w\" mode"
   ]
  },
  {
   "cell_type": "code",
   "execution_count": 83,
   "metadata": {},
   "outputs": [],
   "source": [
    "with open(\"data files\\sample.txt\") as fh:\n",
    "    l=fh.readlines()\n",
    "    lineno=1\n",
    "    fw=open(\"data files\\sample.txt\",\"w\")\n",
    "    for i in l:\n",
    "        print(lineno,i,end=\"\",sep=\".\",file=fw)\n",
    "        lineno+=1\n",
    "fw.close()\n"
   ]
  },
  {
   "cell_type": "markdown",
   "metadata": {},
   "source": [
    "# Function to repeted count of values in different ways"
   ]
  },
  {
   "cell_type": "code",
   "execution_count": 85,
   "metadata": {},
   "outputs": [
    {
     "name": "stdout",
     "output_type": "stream",
     "text": [
      "google.com\n",
      "{'g': 2, 'o': 3, 'l': 1, 'e': 1, '.': 1, 'c': 1, 'm': 1}\n"
     ]
    }
   ],
   "source": [
    "s=input()\n",
    "dict={}\n",
    "for i in s:\n",
    "    keys=dict.keys()\n",
    "    if i in keys:\n",
    "        dict[i]+=1\n",
    "    else:\n",
    "        dict[i]=1\n",
    "print(dict)\n",
    "    "
   ]
  },
  {
   "cell_type": "code",
   "execution_count": 95,
   "metadata": {},
   "outputs": [
    {
     "name": "stdout",
     "output_type": "stream",
     "text": [
      "6\n",
      "1 2 3 44 3\n",
      "3\n",
      "3\n",
      "2\n",
      "44\n",
      "1\n",
      "1\n",
      "1\n"
     ]
    }
   ],
   "source": [
    "def serch1(y):\n",
    "    dict={}\n",
    "    for j in y:\n",
    "        n=dict.keys()\n",
    "        if j in n:\n",
    "            dict[j]+=1\n",
    "        else:\n",
    "            dict[j]=1\n",
    "    return dict\n",
    "            \n",
    "x=int(input())\n",
    "y=list(map(int,input().split()))\n",
    "x1=int(input())\n",
    "b=serch1(y)\n",
    "for i in range(x1):\n",
    "    a=int(input())\n",
    "    if a in b.keys():\n",
    "        print(b[a])\n",
    "    else:\n",
    "        print(\"NOT PRESENT\")\n",
    "   \n",
    "    "
   ]
  },
  {
   "cell_type": "code",
   "execution_count": 87,
   "metadata": {},
   "outputs": [
    {
     "name": "stdout",
     "output_type": "stream",
     "text": [
      "1 2 33 44 5\n"
     ]
    },
    {
     "data": {
      "text/plain": [
       "{'1': 1, ' ': 4, '2': 1, '3': 2, '4': 2, '5': 1}"
      ]
     },
     "execution_count": 87,
     "metadata": {},
     "output_type": "execute_result"
    }
   ],
   "source": [
    "x=input()\n",
    "d={}\n",
    "for i in x:\n",
    "    d[i]=x.count(i)\n",
    "d"
   ]
  },
  {
   "cell_type": "code",
   "execution_count": 88,
   "metadata": {},
   "outputs": [
    {
     "data": {
      "text/plain": [
       "{'1': 1, '4': 2, '3': 2, ' ': 4, '2': 1, '5': 1}"
      ]
     },
     "execution_count": 88,
     "metadata": {},
     "output_type": "execute_result"
    }
   ],
   "source": [
    "d1={}\n",
    "for i in (set(x)):\n",
    "    d1[i]=x.count(i)\n",
    "d1"
   ]
  },
  {
   "cell_type": "code",
   "execution_count": 92,
   "metadata": {},
   "outputs": [
    {
     "data": {
      "text/plain": [
       "2"
      ]
     },
     "execution_count": 92,
     "metadata": {},
     "output_type": "execute_result"
    }
   ],
   "source": [
    "f=\"asdfghjklasdfg\"\n",
    "f.count(f[2])"
   ]
  },
  {
   "cell_type": "code",
   "execution_count": 3,
   "metadata": {},
   "outputs": [
    {
     "name": "stdout",
     "output_type": "stream",
     "text": [
      "4\n",
      "1 2 44 5\n",
      "6 5 44 3\n",
      "7 7 88 8 "
     ]
    }
   ],
   "source": [
    "n=int(input())\n",
    "a=list(map(int,input().split()))\n",
    "b=list(map(int,input().split()))\n",
    "for i in range(n):\n",
    "    c=(a[i]+b[i])\n",
    "    print(c,end=\" \")\n",
    "    "
   ]
  },
  {
   "cell_type": "code",
   "execution_count": null,
   "metadata": {},
   "outputs": [],
   "source": []
  }
 ],
 "metadata": {
  "kernelspec": {
   "display_name": "Python 3",
   "language": "python",
   "name": "python3"
  },
  "language_info": {
   "codemirror_mode": {
    "name": "ipython",
    "version": 3
   },
   "file_extension": ".py",
   "mimetype": "text/x-python",
   "name": "python",
   "nbconvert_exporter": "python",
   "pygments_lexer": "ipython3",
   "version": "3.7.3"
  }
 },
 "nbformat": 4,
 "nbformat_minor": 2
}
