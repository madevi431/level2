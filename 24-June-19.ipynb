{
 "cells": [
  {
   "cell_type": "markdown",
   "metadata": {},
   "source": [
    "# Function to binary quieries"
   ]
  },
  {
   "cell_type": "code",
   "execution_count": 39,
   "metadata": {
    "scrolled": true
   },
   "outputs": [
    {
     "name": "stdout",
     "output_type": "stream",
     "text": [
      " 5 2\n",
      "1 0 1 1 1\n",
      "1 2\n",
      "0 1 4\n",
      "ODD\n"
     ]
    }
   ],
   "source": [
    "def query(q1):\n",
    "    \n",
    "    if(len(q1)==2):\n",
    "        if (l[q1[1]-1])==0:\n",
    "            l[1]=1\n",
    "        else:\n",
    "             l[1]=0\n",
    "    return l\n",
    "def query1(q2,a):\n",
    "   # print(a)\n",
    "    \n",
    "    if(a[q2[2]-1])==1:\n",
    "        print(\"ODD\")\n",
    "    else:\n",
    "        print(\"EVEN\")\n",
    "n,q=list(map(int,input().split()))\n",
    "l=list(map(int,input().split()))\n",
    "#print(l)\n",
    "q1=list(map(int,input().split()))\n",
    "q2=list(map(int,input().split()))\n",
    "a=query(q1)\n",
    "#print(a)\n",
    "\n",
    "query1(q2,a)\n",
    "    "
   ]
  },
  {
   "cell_type": "markdown",
   "metadata": {},
   "source": [
    "# Function to unique word count by using different data structures\n",
    "### 1.BY using Dictionaries\n",
    "### 2.By using List"
   ]
  },
  {
   "cell_type": "code",
   "execution_count": 2,
   "metadata": {},
   "outputs": [
    {
     "name": "stdout",
     "output_type": "stream",
     "text": [
      "['hiii hello hiii', 'how are you', 'checking the parameters of a file handling hello', '']\n",
      "['hiii hello hiii']\n",
      "['hiii hello hiii', 'how are you']\n",
      "['hiii hello hiii', 'how are you', 'checking the parameters of a file handling hello']\n",
      "['hiii hello hiii', 'how are you', 'checking the parameters of a file handling hello', '']\n",
      "['hiii hello hiii', 'how are you', 'checking the parameters of a file handling hello', '']\n",
      "checking the parameters of a file handling hello : 1\n",
      "how are you : 1\n",
      "hiii hello hiii : 1\n",
      " : 1\n"
     ]
    },
    {
     "data": {
      "text/plain": [
       "1"
      ]
     },
     "execution_count": 2,
     "metadata": {},
     "output_type": "execute_result"
    }
   ],
   "source": [
    "filename=\"data files/taskhelp.txt\"\n",
    "def listwords(filename):\n",
    "    with open(filename,'r') as m:      # List of word from file \n",
    "        x=m.read()\n",
    "        l=x.split('\\n')\n",
    "    return l\n",
    "l=listwords(filename)\n",
    "print(l)\n",
    "def uniqueextract(filename):\n",
    "    u=[]\n",
    "    for i in l:\n",
    "        if i not in u:\n",
    "            u.append(i)\n",
    "            count=len(u)   #list of unique words in  a file\n",
    "        print(u)  # unique word\n",
    "    return u\n",
    "u=uniqueextract(filename)\n",
    "print(u)\n",
    "def uniquecountfinally(filename):\n",
    "        x=set(l)\n",
    "        for i in x:\n",
    "            a=l.count(i)   #unique words count\n",
    "            print(i,':',a)\n",
    "        return a\n",
    "\n",
    "uniquecountfinally(filename)\n"
   ]
  },
  {
   "cell_type": "code",
   "execution_count": 65,
   "metadata": {},
   "outputs": [],
   "source": [
    "#contact application\n",
    "    #add,search,list,modify,delete\n",
    "#find and replace Application\n",
    "    #count the total number of occurances\n",
    "    #if word is existing\n",
    "    #replace all occurances of a word with another word\n",
    "#Marks analysis application\n",
    "    #generate a random marks for n students\n",
    "    #input(marks txt file:each line contains marks of 1 student ex:1 line=95.2nd line =90)\n",
    "        #class average\n",
    "        #%passed students\n",
    "        #%failed students\n",
    "        #%distinction students\n"
   ]
  },
  {
   "cell_type": "markdown",
   "metadata": {},
   "source": [
    "# Function to generate student marks by using file in write mode"
   ]
  },
  {
   "cell_type": "code",
   "execution_count": 12,
   "metadata": {},
   "outputs": [],
   "source": [
    "from random import randint  #for random values include randint\n",
    "\n",
    "def generatemarks(n,lb,ub):\n",
    "    with open(\"data files/marks.txt\",'w') as f: #createing a file in this directory as f\n",
    "        for i in range(0,n):\n",
    "            r=randint(lb,ub)# generate random values\n",
    "            f.write(str(r)+'\\n')\n",
    "        return \n",
    "m=generatemarks(50,0,100)\n"
   ]
  },
  {
   "cell_type": "markdown",
   "metadata": {},
   "source": [
    "# Find and replace string  in files "
   ]
  },
  {
   "cell_type": "code",
   "execution_count": 2,
   "metadata": {},
   "outputs": [
    {
     "name": "stdout",
     "output_type": "stream",
     "text": [
      "hiii : 2\n",
      "hello : 2\n",
      "you : 1\n",
      "handling : 1\n",
      "checking : 1\n",
      "a : 1\n",
      "how : 1\n",
      "the : 1\n",
      "file : 1\n",
      "of : 1\n",
      "are : 1\n",
      "parameters : 1\n",
      "madhu hello madhu\n",
      "how are you\n",
      "checking the parameters of a file handling hello\n",
      "\n"
     ]
    }
   ],
   "source": [
    "with open(\"data files/taskhelp.txt\",'r') as f:\n",
    "    x=f.read()\n",
    "    l=x.split()\n",
    "    for i in set(l):\n",
    "        a=l.count(i)\n",
    "        print(i,':',a)\n",
    "    print(x.replace(\"hiii\",\"madhu\"))\n"
   ]
  },
  {
   "cell_type": "markdown",
   "metadata": {},
   "source": [
    "# Frequency of digit ocuurance count"
   ]
  },
  {
   "cell_type": "code",
   "execution_count": 20,
   "metadata": {},
   "outputs": [
    {
     "name": "stdout",
     "output_type": "stream",
     "text": [
      "tyui1234\n",
      "0 1 1 1 1 0 0 0 0 0 "
     ]
    }
   ],
   "source": [
    "s=input()\n",
    "for i in range(0,10):\n",
    "    print(s.count(str(i)),end=' ')"
   ]
  },
  {
   "cell_type": "code",
   "execution_count": 23,
   "metadata": {},
   "outputs": [
    {
     "name": "stdout",
     "output_type": "stream",
     "text": [
      "asd1233214\n",
      "0 2 2 2 1 0 0 0 0 0 "
     ]
    }
   ],
   "source": [
    "x=input()\n",
    "for i in range(0,10):\n",
    "    print(x.count(str(i)),end=' ')"
   ]
  },
  {
   "cell_type": "markdown",
   "metadata": {},
   "source": [
    "# Digit count in a number in list comprehensive manner"
   ]
  },
  {
   "cell_type": "code",
   "execution_count": 31,
   "metadata": {},
   "outputs": [
    {
     "name": "stdout",
     "output_type": "stream",
     "text": [
      "123\n",
      "6\n"
     ]
    }
   ],
   "source": [
    "n=input()\n",
    "l=sum([int(x) for x in n])\n",
    "print(l)"
   ]
  },
  {
   "cell_type": "code",
   "execution_count": 6,
   "metadata": {},
   "outputs": [
    {
     "name": "stdout",
     "output_type": "stream",
     "text": [
      "123\n"
     ]
    },
    {
     "data": {
      "text/plain": [
       "6"
      ]
     },
     "execution_count": 6,
     "metadata": {},
     "output_type": "execute_result"
    }
   ],
   "source": [
    "\n",
    "def digitsum(n):\n",
    "    s=0\n",
    "    for i in n:\n",
    "        s=s+int(i) #convert i(string) to int\n",
    "    return s\n",
    "n=input()\n",
    "digitsum(n)"
   ]
  },
  {
   "cell_type": "code",
   "execution_count": null,
   "metadata": {},
   "outputs": [],
   "source": []
  }
 ],
 "metadata": {
  "kernelspec": {
   "display_name": "Python 3",
   "language": "python",
   "name": "python3"
  },
  "language_info": {
   "codemirror_mode": {
    "name": "ipython",
    "version": 3
   },
   "file_extension": ".py",
   "mimetype": "text/x-python",
   "name": "python",
   "nbconvert_exporter": "python",
   "pygments_lexer": "ipython3",
   "version": "3.7.3"
  }
 },
 "nbformat": 4,
 "nbformat_minor": 2
}
