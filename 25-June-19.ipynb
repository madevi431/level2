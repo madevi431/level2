{
 "cells": [
  {
   "cell_type": "markdown",
   "metadata": {},
   "source": [
    "# Function to return average of a student marks in a file"
   ]
  },
  {
   "cell_type": "code",
   "execution_count": 1,
   "metadata": {},
   "outputs": [
    {
     "name": "stdout",
     "output_type": "stream",
     "text": [
      "50\n"
     ]
    },
    {
     "data": {
      "text/plain": [
       "54.3"
      ]
     },
     "execution_count": 1,
     "metadata": {},
     "output_type": "execute_result"
    }
   ],
   "source": [
    "def classavg(filename):\n",
    "    s=0\n",
    "    c=0\n",
    "    with open(filename,'r') as f:\n",
    "        x=f.read()\n",
    "        l=x.split()\n",
    "        print(len(l))\n",
    "        for i in l:\n",
    "            c=c+1\n",
    "            s=s+int(i)\n",
    "            avg=s/c\n",
    "        return avg\n",
    "filename=\"data files/marks.txt\"\n",
    "classavg(filename)\n",
    "            \n",
    "        "
   ]
  },
  {
   "cell_type": "markdown",
   "metadata": {},
   "source": [
    "# Function to return %of passed students in afile based on marks"
   ]
  },
  {
   "cell_type": "code",
   "execution_count": 31,
   "metadata": {},
   "outputs": [
    {
     "name": "stdout",
     "output_type": "stream",
     "text": [
      "50\n"
     ]
    },
    {
     "data": {
      "text/plain": [
       "68.0"
      ]
     },
     "execution_count": 31,
     "metadata": {},
     "output_type": "execute_result"
    }
   ],
   "source": [
    "def passedpercent(filename):\n",
    "    c1=0\n",
    "    c2=0\n",
    "    with open(filename,'r') as f:\n",
    "        x=f.read()\n",
    "        l=x.split()\n",
    "        print(len(l))\n",
    "        for i in l:\n",
    "            c1=c1+1\n",
    "            if int(i)>=35:\n",
    "                c2=c2+1\n",
    "                passed=c2/c1*100\n",
    "        return passed\n",
    "passedpercent(filename)\n",
    "                "
   ]
  },
  {
   "cell_type": "markdown",
   "metadata": {},
   "source": [
    "# function to failed student percentage from a file"
   ]
  },
  {
   "cell_type": "code",
   "execution_count": 28,
   "metadata": {},
   "outputs": [
    {
     "data": {
      "text/plain": [
       "35.41666666666667"
      ]
     },
     "execution_count": 28,
     "metadata": {},
     "output_type": "execute_result"
    }
   ],
   "source": [
    "def failedpercent(filename):\n",
    "    c1=0\n",
    "    c2=0\n",
    "    with open(filename,'r') as f:\n",
    "        x=f.read()\n",
    "        l=x.split()\n",
    "        for i in l:\n",
    "            c1=c1+1\n",
    "            if int(i)<=35:\n",
    "                c2=c2+1\n",
    "                failed=c2/c1*100\n",
    "        return failed\n",
    "failedpercent(filename)"
   ]
  },
  {
   "cell_type": "markdown",
   "metadata": {},
   "source": [
    "# FUnction to calculate the %distinction  students "
   ]
  },
  {
   "cell_type": "code",
   "execution_count": 30,
   "metadata": {},
   "outputs": [
    {
     "data": {
      "text/plain": [
       "26.53061224489796"
      ]
     },
     "execution_count": 30,
     "metadata": {},
     "output_type": "execute_result"
    }
   ],
   "source": [
    "def distinctpercent(filename):\n",
    "    c1=0\n",
    "    c2=0\n",
    "    with open(filename,'r') as f:\n",
    "        x=f.read()\n",
    "        l=x.split()\n",
    "        for i in l:\n",
    "            c1=c1+1\n",
    "            if int(i)>=75:\n",
    "                c2=c2+1\n",
    "                distinct=c2/c1*100\n",
    "        return distinct\n",
    "distinctpercent(filename)"
   ]
  },
  {
   "cell_type": "markdown",
   "metadata": {},
   "source": [
    "# Function to generate highest marks frequency in a file"
   ]
  },
  {
   "cell_type": "code",
   "execution_count": 62,
   "metadata": {},
   "outputs": [
    {
     "data": {
      "text/plain": [
       "{96: 1, 99: 1, 90: 1, 100: 1, 94: 1, 97: 1}"
      ]
     },
     "execution_count": 62,
     "metadata": {},
     "output_type": "execute_result"
    }
   ],
   "source": [
    "def hihestmarks(filename):\n",
    "    d={}\n",
    "    with open(filename,'r') as f:\n",
    "        x=f.read()\n",
    "        l=list(map(int,x.split()))\n",
    "        for i in l:\n",
    "            if i>=90:\n",
    "                d[i]=l.count(i)\n",
    "            \n",
    "        return d\n",
    "filename=\"data files/marks.txt\"\n",
    "hihestmarks(filename)"
   ]
  },
  {
   "cell_type": "markdown",
   "metadata": {},
   "source": [
    "# Function to lowest marks frequency of a file from student marks"
   ]
  },
  {
   "cell_type": "code",
   "execution_count": 63,
   "metadata": {},
   "outputs": [
    {
     "name": "stdout",
     "output_type": "stream",
     "text": [
      "{28: 1, 6: 2, 29: 2, 23: 1, 24: 1, 19: 1, 14: 1, 15: 1, 16: 1, 5: 1, 21: 1, 25: 1}"
     ]
    }
   ],
   "source": [
    "def lowestmarks(filename):\n",
    "    d={}\n",
    "    with open(filename,'r') as f:\n",
    "        x=f.read()\n",
    "        l=list(map(int,x.split()))\n",
    "        for i in l:\n",
    "            if i<=30:\n",
    "                d[i]=l.count(i)\n",
    "        print(d,end='')\n",
    "filename=\"data files/marks.txt\"\n",
    "lowestmarks(filename)"
   ]
  },
  {
   "cell_type": "markdown",
   "metadata": {},
   "source": [
    "# frquency of digit count in a given string"
   ]
  },
  {
   "cell_type": "code",
   "execution_count": 66,
   "metadata": {},
   "outputs": [
    {
     "name": "stdout",
     "output_type": "stream",
     "text": [
      "asd123321\n",
      "0 0 0 0 0 0 0 0 0 0 0 0 0 0 0 0 0 0 0 0 0 0 0 0 0 0 0 0 0 0 0 0 0 0 0 0 0 0 0 0 0 0 0 0 0 0 0 0 0 0 0 0 0 0 0 0 0 0 0 0 "
     ]
    }
   ],
   "source": [
    "def uniquedata(allnumbers):\n",
    "    unique=[]\n",
    "    for n in allnumbers:\n",
    "        if n not in unique:\n",
    "            unique.append(n)\n",
    "    return unique\n",
    "def digitfreq(n):\n",
    "    allnumbers=[]\n",
    "    for i in n:\n",
    "        if i.isdigit():\n",
    "            allnumbers.append(i)\n",
    "            unique=uniquedata(allnumbers)\n",
    "            for i in range(0,10):\n",
    "                if i not in unique:\n",
    "                    print(0,end =\" \")\n",
    "                else:\n",
    "                    c=allnumbers.count(str(i))\n",
    "                    print(c,end=' ')    \n",
    "n=input()\n",
    "digitfreq(n)"
   ]
  },
  {
   "cell_type": "markdown",
   "metadata": {},
   "source": [
    "# Contact application by using files \n",
    "### >add >.delete  >serch >modify >lsit contacts"
   ]
  },
  {
   "cell_type": "code",
   "execution_count": 29,
   "metadata": {},
   "outputs": [
    {
     "name": "stdout",
     "output_type": "stream",
     "text": [
      "TRue\n",
      "('madhu', 'already exist')\n",
      "[['name:', 'mobile:', 'email\\n'], ['sumathi', ' 9234567890 ', '', ' siddudad234_1hj@gmail.com\\n'], ['madhu ', '98765432165', 'mavxcvb@gmail.com\\n'], ['cv', '12345678', 'sdfghjk@gmail.com']]\n",
      "cv,12345678,sdfghjk@gmail.com None\n",
      "cv new67891234 None\n"
     ]
    },
    {
     "data": {
      "text/plain": [
       "'contact removed'"
      ]
     },
     "execution_count": 29,
     "metadata": {},
     "output_type": "execute_result"
    }
   ],
   "source": [
    "import re\n",
    "from Packages.validators import phnvalidation as phv\n",
    "from Packages.validators import mailvalidation  as ev\n",
    "filename='data files\\mycontacts1.txt'\n",
    "def checkcontactexist(name):\n",
    "    with open (filename,'r')as f:\n",
    "        filedata=f.read()\n",
    "        pattern=name+','\n",
    "    return re.search(name,filedata)\n",
    "if checkcontactexist(\"madhu\"):\n",
    "    print(\"TRue\")\n",
    "else:\n",
    "    print(\"False\")\n",
    "def addcontact(name,phone,email):\n",
    "    \n",
    "    #store data as name,phn,email in the contacts file\n",
    "    if not checkcontactexist(name):\n",
    "        with open(filename,'a') as f:\n",
    "            l1=name+', '+str(phone)+' ,'+', '+email+'\\n'\n",
    "            f.write(l1)\n",
    "        print(name,\"details added to contacts\")\n",
    "    return(name,\"already exist\") \n",
    "print(addcontact(\"madhu\",9841234523,\"mad431@gmail.com\"))\n",
    "def csvtolist(filename):\n",
    "    with open(filename,'r') as f:\n",
    "        f1=[]\n",
    "        for i in f.readlines():\n",
    "             f1.append(i.split(sep=','))\n",
    "    return f1 \n",
    "li=csvtolist(filename)\n",
    "print(li)\n",
    "def searchcontact(filename,name):\n",
    "    filename=\"data files/mycontacts1.txt\"\n",
    "    f1=csvtolist(filename)\n",
    "    #print(f1)\n",
    "    f=0\n",
    "    for i in f1:\n",
    "        if name==i[0]:\n",
    "            f=1\n",
    "    print(','.join(i),end=\" \")\n",
    "\n",
    "print(searchcontact(filename,\"madhu\"))\n",
    "def modifycontact(filename,name):\n",
    "   \n",
    "    f1=csvtolist(filename)\n",
    "    #print(f1)\n",
    "    f=0\n",
    "    for i in f1:\n",
    "        if name==i[0]:\n",
    "            f=1\n",
    "    print(i[0],\"new67891234\",end=\" \")\n",
    "filename=\"data files/mycontacts1.txt\"\n",
    "print(modifycontact(filename,\"madhu\"))\n",
    "def searchcontactwithreturn(filename,name):\n",
    "    f1=csvtolist(filename)\n",
    "    f=0\n",
    "    for i in range(len(f1)):\n",
    "        if name==f1[i][0]:\n",
    "            f=1\n",
    "            return i\n",
    "    if f==0:\n",
    "        return -1\n",
    "filename=\"data files/mycontacts1.txt\"\n",
    "i=searchcontactwithreturn(filename,\"y\")\n",
    "li=csvtolist(filename)\n",
    "def listtofile(li):\n",
    "    s=''\n",
    "    for j in li:\n",
    "        s+=','.join(j)\n",
    "    return s\n",
    "listtofile(li)\n",
    "\n",
    "def removecontact(filename,name):\n",
    "    if i!=-1:\n",
    "        f1=csvtolist(filename)\n",
    "        f1.pop(name)\n",
    "        s=listtofile(f1)\n",
    "        with open(filename,'w') as f:\n",
    "            f.write(s)\n",
    "    return (\"contact removed\")\n",
    "filename=\"data files/mycontacts1.txt\"\n",
    "removecontact(filename,\"y\")\n",
    "            "
   ]
  },
  {
   "cell_type": "code",
   "execution_count": 30,
   "metadata": {},
   "outputs": [
    {
     "name": "stdout",
     "output_type": "stream",
     "text": [
      "5\n",
      "Enter 1.add contact:2.lst of contacts:3:search contact4\n",
      "cv new67891234 None\n",
      "Enter 1.add contact:2.lst of contacts:3:search contact5\n"
     ]
    },
    {
     "ename": "TypeError",
     "evalue": "'str' object cannot be interpreted as an integer",
     "output_type": "error",
     "traceback": [
      "\u001b[1;31m---------------------------------------------------------------------------\u001b[0m",
      "\u001b[1;31mTypeError\u001b[0m                                 Traceback (most recent call last)",
      "\u001b[1;32m<ipython-input-30-c12cce6be1e4>\u001b[0m in \u001b[0;36m<module>\u001b[1;34m\u001b[0m\n\u001b[0;32m     11\u001b[0m         \u001b[0mprint\u001b[0m\u001b[1;33m(\u001b[0m\u001b[0mmodifycontact\u001b[0m\u001b[1;33m(\u001b[0m\u001b[0mfilename\u001b[0m\u001b[1;33m,\u001b[0m\u001b[1;34m\"madhu\"\u001b[0m\u001b[1;33m)\u001b[0m\u001b[1;33m)\u001b[0m\u001b[1;33m\u001b[0m\u001b[1;33m\u001b[0m\u001b[0m\n\u001b[0;32m     12\u001b[0m     \u001b[1;32melif\u001b[0m \u001b[0mz\u001b[0m\u001b[1;33m==\u001b[0m\u001b[1;36m5\u001b[0m\u001b[1;33m:\u001b[0m\u001b[1;33m\u001b[0m\u001b[1;33m\u001b[0m\u001b[0m\n\u001b[1;32m---> 13\u001b[1;33m         \u001b[0mprint\u001b[0m\u001b[1;33m(\u001b[0m\u001b[0mremovecontact\u001b[0m\u001b[1;33m(\u001b[0m\u001b[0mfilename\u001b[0m\u001b[1;33m,\u001b[0m\u001b[1;34m\"cv\"\u001b[0m\u001b[1;33m)\u001b[0m\u001b[1;33m)\u001b[0m\u001b[1;33m\u001b[0m\u001b[1;33m\u001b[0m\u001b[0m\n\u001b[0m\u001b[0;32m     14\u001b[0m     \u001b[1;32melse\u001b[0m\u001b[1;33m:\u001b[0m\u001b[1;33m\u001b[0m\u001b[1;33m\u001b[0m\u001b[0m\n\u001b[0;32m     15\u001b[0m         \u001b[0mprint\u001b[0m\u001b[1;33m(\u001b[0m\u001b[1;34m\"none\"\u001b[0m\u001b[1;33m)\u001b[0m\u001b[1;33m\u001b[0m\u001b[1;33m\u001b[0m\u001b[0m\n",
      "\u001b[1;32m<ipython-input-29-2d7e6164e501>\u001b[0m in \u001b[0;36mremovecontact\u001b[1;34m(filename, name)\u001b[0m\n\u001b[0;32m     74\u001b[0m     \u001b[1;32mif\u001b[0m \u001b[0mi\u001b[0m\u001b[1;33m!=\u001b[0m\u001b[1;33m-\u001b[0m\u001b[1;36m1\u001b[0m\u001b[1;33m:\u001b[0m\u001b[1;33m\u001b[0m\u001b[1;33m\u001b[0m\u001b[0m\n\u001b[0;32m     75\u001b[0m         \u001b[0mf1\u001b[0m\u001b[1;33m=\u001b[0m\u001b[0mcsvtolist\u001b[0m\u001b[1;33m(\u001b[0m\u001b[0mfilename\u001b[0m\u001b[1;33m)\u001b[0m\u001b[1;33m\u001b[0m\u001b[1;33m\u001b[0m\u001b[0m\n\u001b[1;32m---> 76\u001b[1;33m         \u001b[0mf1\u001b[0m\u001b[1;33m.\u001b[0m\u001b[0mpop\u001b[0m\u001b[1;33m(\u001b[0m\u001b[0mname\u001b[0m\u001b[1;33m)\u001b[0m\u001b[1;33m\u001b[0m\u001b[1;33m\u001b[0m\u001b[0m\n\u001b[0m\u001b[0;32m     77\u001b[0m         \u001b[0ms\u001b[0m\u001b[1;33m=\u001b[0m\u001b[0mlisttofile\u001b[0m\u001b[1;33m(\u001b[0m\u001b[0mf1\u001b[0m\u001b[1;33m)\u001b[0m\u001b[1;33m\u001b[0m\u001b[1;33m\u001b[0m\u001b[0m\n\u001b[0;32m     78\u001b[0m         \u001b[1;32mwith\u001b[0m \u001b[0mopen\u001b[0m\u001b[1;33m(\u001b[0m\u001b[0mfilename\u001b[0m\u001b[1;33m,\u001b[0m\u001b[1;34m'w'\u001b[0m\u001b[1;33m)\u001b[0m \u001b[1;32mas\u001b[0m \u001b[0mf\u001b[0m\u001b[1;33m:\u001b[0m\u001b[1;33m\u001b[0m\u001b[1;33m\u001b[0m\u001b[0m\n",
      "\u001b[1;31mTypeError\u001b[0m: 'str' object cannot be interpreted as an integer"
     ]
    }
   ],
   "source": [
    "x=int(input())\n",
    "for i in range(x):\n",
    "    z=int(input(\"Enter 1.add contact:2.lst of contacts:3:search contact\"))\n",
    "    if z==1:\n",
    "        print(addcontact(\"madhu\",9841234523,\"mad431@gmail.com\"))\n",
    "    elif z==2:\n",
    "        print(li)\n",
    "    elif z==3:\n",
    "        print(searchcontact(filename,\"madhu\"))\n",
    "    elif z==4:\n",
    "        print(modifycontact(filename,\"madhu\"))\n",
    "    elif z==5:\n",
    "        print(removecontact(filename,\"cv\"))\n",
    "    else:\n",
    "        print(\"none\")  "
   ]
  },
  {
   "cell_type": "markdown",
   "metadata": {},
   "source": [
    "# Function to check anagrams: and function to frequency of anagrams\n",
    "### 1.abc -->cba  True  2.aabbcc-->ccbbaaa-->False"
   ]
  },
  {
   "cell_type": "code",
   "execution_count": 3,
   "metadata": {},
   "outputs": [
    {
     "name": "stdout",
     "output_type": "stream",
     "text": [
      "False\n",
      "True\n"
     ]
    }
   ],
   "source": [
    "def anagrams1(s1,s2):\n",
    "    if(len(s1)!=len(s2)):\n",
    "        return False\n",
    "    if sorted(s1)==sorted(s2):\n",
    "        return True\n",
    "    return False\n",
    "print(anagrams1('abc','bcc'))\n",
    "print(anagrams1('aac','aca'))\n",
    "\n",
    "            \n",
    "            "
   ]
  },
  {
   "cell_type": "code",
   "execution_count": 13,
   "metadata": {},
   "outputs": [
    {
     "name": "stdout",
     "output_type": "stream",
     "text": [
      "0\n",
      "3\n",
      "2\n"
     ]
    }
   ],
   "source": [
    "#t=int(input)\n",
    "def charintoanagrams(s1,s2):\n",
    "    uncommon=[]# Collect the uncommon charcters in a list\n",
    "    for i in s1:\n",
    "        if i not in s2:\n",
    "            uncommon.append(i)\n",
    "    for i in s2:\n",
    "        if i not in s1:\n",
    "            uncommon.append(i)\n",
    "    count=len(uncommon)\n",
    "    freqs1={}\n",
    "    freqs2={}\n",
    "    uniques1=[]\n",
    "    uniques2=[]\n",
    "    for i in s1:\n",
    "        if i not in uncommon and i not in uniques1:\n",
    "            freqs1[i]=s1.count(i)\n",
    "            uniques1.append(i)\n",
    "    for i in s2:\n",
    "        if i not in uncommon and i not in uniques2:\n",
    "            freqs2[i]=s2.count(i)\n",
    "            uniques2.append(i)\n",
    "    for key in freqs1.keys():\n",
    "        count+=abs(freqs1[key]-freqs2[key])\n",
    "    return count\n",
    "'''for i in range(0,t):\n",
    "    s1=input()\n",
    "    s2=input()'''\n",
    "print(charintoanagrams(\"abc\",\"bac\")) # bz anagrams we get 0 \n",
    "print(charintoanagrams(\"aabcd\",\"baasdf\"))#not anagrams\n",
    "print(charintoanagrams(\"a\",\"b\"))# boundary conditions"
   ]
  },
  {
   "cell_type": "markdown",
   "metadata": {},
   "source": [
    "# Function to return floor avg of 1,10"
   ]
  },
  {
   "cell_type": "code",
   "execution_count": 14,
   "metadata": {},
   "outputs": [
    {
     "data": {
      "text/plain": [
       "5"
      ]
     },
     "execution_count": 14,
     "metadata": {},
     "output_type": "execute_result"
    }
   ],
   "source": [
    "def flooravg(lb,ub):\n",
    "    s=0\n",
    "    for i in range(lb,ub+1):\n",
    "        s+=i\n",
    "    count=ub-lb+1\n",
    "    return s//count\n",
    "flooravg(1,10)"
   ]
  },
  {
   "cell_type": "markdown",
   "metadata": {},
   "source": [
    "# Function to generate kth largest value"
   ]
  },
  {
   "cell_type": "code",
   "execution_count": 83,
   "metadata": {},
   "outputs": [
    {
     "data": {
      "text/plain": [
       "'print(kthlargefreq(\"aabcd\",3))\\nprint(kthlargefreq(\"aabcd\",2))'"
      ]
     },
     "execution_count": 83,
     "metadata": {},
     "output_type": "execute_result"
    }
   ],
   "source": [
    "def kthlargefreq(s,k):\n",
    "    #construct the frequency dictionarie\n",
    "    #unique=[]\n",
    "    freq={}\n",
    "    for i in s:\n",
    "        if i not in freq.keys():\n",
    "            freq[i]=s.count(i)\n",
    "    values=sorted(freq.values(),reverse=True)\n",
    "    uniquevalues=list(set(values))\n",
    "    uniquevalues=sorted(uniquevalues,reverse=True)\n",
    "    print(len(uniquevalues))\n",
    "    if k<=len(uniquevalues):\n",
    "        kvalue=uniquevalues[k-1]\n",
    "    else:\n",
    "        return -1\n",
    "   \n",
    "    li=[]\n",
    "    for item in freq.items():\n",
    "        if item[1]==kvalue:\n",
    "            li.append(item[0])\n",
    "    return min(li)\n",
    "'''print(kthlargefreq(\"aabcd\",3))\n",
    "print(kthlargefreq(\"aabcd\",2))'''\n"
   ]
  },
  {
   "cell_type": "markdown",
   "metadata": {},
   "source": [
    "# Kth largets frequency"
   ]
  },
  {
   "cell_type": "code",
   "execution_count": 84,
   "metadata": {},
   "outputs": [
    {
     "name": "stdout",
     "output_type": "stream",
     "text": [
      "2\n",
      "-1\n",
      "2\n",
      "\n",
      "\n"
     ]
    }
   ],
   "source": [
    "with open('../input.txt','r') as f:\n",
    "    t=int(f.readline()) # read 1st line from file input.txt file\n",
    "    for i in range(t):\n",
    "        s=f.readline()\n",
    "        k=int(f.readline())\n",
    "        print(kthlargefreq(s,k))\n",
    "\n",
    "    "
   ]
  },
  {
   "cell_type": "markdown",
   "metadata": {},
   "source": [
    "# kth smallest number in alist"
   ]
  },
  {
   "cell_type": "code",
   "execution_count": 77,
   "metadata": {},
   "outputs": [
    {
     "data": {
      "text/plain": [
       "4"
      ]
     },
     "execution_count": 77,
     "metadata": {},
     "output_type": "execute_result"
    }
   ],
   "source": [
    "def ksmallest(li,k):\n",
    "    u=[]\n",
    "    for i in li:\n",
    "        if i not in u:\n",
    "            u.append(i)\n",
    "    #sort the list in ascending order for least values\n",
    "    u=sorted(u)\n",
    "    #check if length of unique list is >=k\n",
    "    if len(u)>=k:\n",
    "        return u[k-1]\n",
    "    return -1\n",
    "li=[1,9,33,4,1]# second smallest is 4\n",
    "ksmallest(li,2)\n",
    "    "
   ]
  },
  {
   "cell_type": "markdown",
   "metadata": {},
   "source": [
    "# Second largest frequency"
   ]
  },
  {
   "cell_type": "code",
   "execution_count": 55,
   "metadata": {},
   "outputs": [
    {
     "name": "stdout",
     "output_type": "stream",
     "text": [
      "[6, 5, 4, 3, 2, 1]\n"
     ]
    },
    {
     "data": {
      "text/plain": [
       "5"
      ]
     },
     "execution_count": 55,
     "metadata": {},
     "output_type": "execute_result"
    }
   ],
   "source": [
    "def secondlargest(li):\n",
    "    #convert the list into unique list\n",
    "    \n",
    "    u=[]\n",
    "    for n in li:\n",
    "        if  n not in u:\n",
    "            u.append(n)\n",
    "    u=sorted(u,reverse=True)# we have find 2nd large thats y we sorte the unique list in a reverse order\n",
    "    print(u)\n",
    "    return u[1]\n",
    "secondlargest([1,2,3,4,4,5,6,1,1])\n",
    "            "
   ]
  },
  {
   "cell_type": "markdown",
   "metadata": {},
   "source": [
    "# 5th  least frequency of list"
   ]
  },
  {
   "cell_type": "code",
   "execution_count": 92,
   "metadata": {},
   "outputs": [
    {
     "name": "stdout",
     "output_type": "stream",
     "text": [
      "[1, 2, 3, 4, 5, 6, 7, 8, 9]\n"
     ]
    },
    {
     "data": {
      "text/plain": [
       "5"
      ]
     },
     "execution_count": 92,
     "metadata": {},
     "output_type": "execute_result"
    }
   ],
   "source": [
    "\n",
    "def fifthleast(li):\n",
    "    u=[]\n",
    "    for i in li:\n",
    "        if i not in u:\n",
    "            u.append(i)\n",
    "    u=sorted(u)\n",
    "    print(u)\n",
    "    return u[4]\n",
    "fifthleast([1,2,3,4,4,5,6,7,8,9])"
   ]
  },
  {
   "cell_type": "markdown",
   "metadata": {},
   "source": [
    "# Kth largest and lowest value in alist"
   ]
  },
  {
   "cell_type": "code",
   "execution_count": 70,
   "metadata": {},
   "outputs": [
    {
     "name": "stdout",
     "output_type": "stream",
     "text": [
      "[1, 32, 43, 65, 5555]\n",
      "5555\n",
      "1\n"
     ]
    }
   ],
   "source": [
    "def kthlargest(li):\n",
    "    u=[]\n",
    "    for i in li:\n",
    "        if i not in u:\n",
    "            u.append(i)\n",
    "    u=sorted(u)\n",
    "    print(u)\n",
    "    return u[-1]\n",
    "li=[43,5555,1,65,32]\n",
    "print(kthlargest(li))#gives kth largest value   max(li)\n",
    "print(min(li))# gives kth least             \n"
   ]
  }
 ],
 "metadata": {
  "kernelspec": {
   "display_name": "Python 3",
   "language": "python",
   "name": "python3"
  },
  "language_info": {
   "codemirror_mode": {
    "name": "ipython",
    "version": 3
   },
   "file_extension": ".py",
   "mimetype": "text/x-python",
   "name": "python",
   "nbconvert_exporter": "python",
   "pygments_lexer": "ipython3",
   "version": "3.7.3"
  }
 },
 "nbformat": 4,
 "nbformat_minor": 2
}
