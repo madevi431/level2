{
 "cells": [
  {
   "cell_type": "markdown",
   "metadata": {},
   "source": [
    "# Function to return average of a student marks in a file"
   ]
  },
  {
   "cell_type": "code",
   "execution_count": 1,
   "metadata": {},
   "outputs": [
    {
     "name": "stdout",
     "output_type": "stream",
     "text": [
      "50\n"
     ]
    },
    {
     "data": {
      "text/plain": [
       "54.3"
      ]
     },
     "execution_count": 1,
     "metadata": {},
     "output_type": "execute_result"
    }
   ],
   "source": [
    "def classavg(filename):\n",
    "    s=0\n",
    "    c=0\n",
    "    with open(filename,'r') as f:\n",
    "        x=f.read()\n",
    "        l=x.split()\n",
    "        print(len(l))\n",
    "        for i in l:\n",
    "            c=c+1\n",
    "            s=s+int(i)\n",
    "            avg=s/c\n",
    "        return avg\n",
    "filename=\"data files/marks.txt\"\n",
    "classavg(filename)\n",
    "            \n",
    "        "
   ]
  },
  {
   "cell_type": "markdown",
   "metadata": {},
   "source": [
    "# Function to return %of passed students in afile based on marks"
   ]
  },
  {
   "cell_type": "code",
   "execution_count": 31,
   "metadata": {},
   "outputs": [
    {
     "name": "stdout",
     "output_type": "stream",
     "text": [
      "50\n"
     ]
    },
    {
     "data": {
      "text/plain": [
       "68.0"
      ]
     },
     "execution_count": 31,
     "metadata": {},
     "output_type": "execute_result"
    }
   ],
   "source": [
    "def passedpercent(filename):\n",
    "    c1=0\n",
    "    c2=0\n",
    "    with open(filename,'r') as f:\n",
    "        x=f.read()\n",
    "        l=x.split()\n",
    "        print(len(l))\n",
    "        for i in l:\n",
    "            c1=c1+1\n",
    "            if int(i)>=35:\n",
    "                c2=c2+1\n",
    "                passed=c2/c1*100\n",
    "        return passed\n",
    "passedpercent(filename)\n",
    "                "
   ]
  },
  {
   "cell_type": "markdown",
   "metadata": {},
   "source": [
    "# function to failed student percentage from a file"
   ]
  },
  {
   "cell_type": "code",
   "execution_count": 28,
   "metadata": {},
   "outputs": [
    {
     "data": {
      "text/plain": [
       "35.41666666666667"
      ]
     },
     "execution_count": 28,
     "metadata": {},
     "output_type": "execute_result"
    }
   ],
   "source": [
    "def failedpercent(filename):\n",
    "    c1=0\n",
    "    c2=0\n",
    "    with open(filename,'r') as f:\n",
    "        x=f.read()\n",
    "        l=x.split()\n",
    "        for i in l:\n",
    "            c1=c1+1\n",
    "            if int(i)<=35:\n",
    "                c2=c2+1\n",
    "                failed=c2/c1*100\n",
    "        return failed\n",
    "failedpercent(filename)"
   ]
  },
  {
   "cell_type": "markdown",
   "metadata": {},
   "source": [
    "# FUnction to calculate the %distinction  students "
   ]
  },
  {
   "cell_type": "code",
   "execution_count": 30,
   "metadata": {},
   "outputs": [
    {
     "data": {
      "text/plain": [
       "26.53061224489796"
      ]
     },
     "execution_count": 30,
     "metadata": {},
     "output_type": "execute_result"
    }
   ],
   "source": [
    "def distinctpercent(filename):\n",
    "    c1=0\n",
    "    c2=0\n",
    "    with open(filename,'r') as f:\n",
    "        x=f.read()\n",
    "        l=x.split()\n",
    "        for i in l:\n",
    "            c1=c1+1\n",
    "            if int(i)>=75:\n",
    "                c2=c2+1\n",
    "                distinct=c2/c1*100\n",
    "        return distinct\n",
    "distinctpercent(filename)"
   ]
  },
  {
   "cell_type": "markdown",
   "metadata": {},
   "source": [
    "# Function to generate highest marks frequency in a file"
   ]
  },
  {
   "cell_type": "code",
   "execution_count": 62,
   "metadata": {},
   "outputs": [
    {
     "data": {
      "text/plain": [
       "{96: 1, 99: 1, 90: 1, 100: 1, 94: 1, 97: 1}"
      ]
     },
     "execution_count": 62,
     "metadata": {},
     "output_type": "execute_result"
    }
   ],
   "source": [
    "def hihestmarks(filename):\n",
    "    d={}\n",
    "    with open(filename,'r') as f:\n",
    "        x=f.read()\n",
    "        l=list(map(int,x.split()))\n",
    "        for i in l:\n",
    "            if i>=90:\n",
    "                d[i]=l.count(i)\n",
    "            \n",
    "        return d\n",
    "filename=\"data files/marks.txt\"\n",
    "hihestmarks(filename)"
   ]
  },
  {
   "cell_type": "markdown",
   "metadata": {},
   "source": [
    "# Function to lowest marks frequency of a file from student marks"
   ]
  },
  {
   "cell_type": "code",
   "execution_count": 63,
   "metadata": {},
   "outputs": [
    {
     "name": "stdout",
     "output_type": "stream",
     "text": [
      "{28: 1, 6: 2, 29: 2, 23: 1, 24: 1, 19: 1, 14: 1, 15: 1, 16: 1, 5: 1, 21: 1, 25: 1}"
     ]
    }
   ],
   "source": [
    "def lowestmarks(filename):\n",
    "    d={}\n",
    "    with open(filename,'r') as f:\n",
    "        x=f.read()\n",
    "        l=list(map(int,x.split()))\n",
    "        for i in l:\n",
    "            if i<=30:\n",
    "                d[i]=l.count(i)\n",
    "        print(d,end='')\n",
    "filename=\"data files/marks.txt\"\n",
    "lowestmarks(filename)"
   ]
  },
  {
   "cell_type": "markdown",
   "metadata": {},
   "source": [
    "# frquency of digit count in a given string"
   ]
  },
  {
   "cell_type": "code",
   "execution_count": 66,
   "metadata": {},
   "outputs": [
    {
     "name": "stdout",
     "output_type": "stream",
     "text": [
      "asd123321\n",
      "0 0 0 0 0 0 0 0 0 0 0 0 0 0 0 0 0 0 0 0 0 0 0 0 0 0 0 0 0 0 0 0 0 0 0 0 0 0 0 0 0 0 0 0 0 0 0 0 0 0 0 0 0 0 0 0 0 0 0 0 "
     ]
    }
   ],
   "source": [
    "def uniquedata(allnumbers):\n",
    "    unique=[]\n",
    "    for n in allnumbers:\n",
    "        if n not in unique:\n",
    "            unique.append(n)\n",
    "    return unique\n",
    "def digitfreq(n):\n",
    "    allnumbers=[]\n",
    "    for i in n:\n",
    "        if i.isdigit():\n",
    "            allnumbers.append(i)\n",
    "            unique=uniquedata(allnumbers)\n",
    "            for i in range(0,10):\n",
    "                if i not in unique:\n",
    "                    print(0,end =\" \")\n",
    "                else:\n",
    "                    c=allnumbers.count(str(i))\n",
    "                    print(c,end=' ')    \n",
    "n=input()\n",
    "digitfreq(n)"
   ]
  },
  {
   "cell_type": "markdown",
   "metadata": {},
   "source": [
    "# Contact application by using files \n",
    "### >add >.delete  >serch >modify >lsit contacts"
   ]
  },
  {
   "cell_type": "code",
   "execution_count": 16,
   "metadata": {},
   "outputs": [
    {
     "name": "stdout",
     "output_type": "stream",
     "text": [
      "TRue\n",
      "('madhu', 'already exist')\n",
      "[['name:', 'mobile:', 'email\\n'], ['sumathi', ' 9234567890 ', '', ' siddudad234_1hj@gmail.com\\n'], ['madhu', ' 9841234523 ', '', ' mad431@gmail.com']]\n",
      "madhu, 9841234523 ,, mad431@gmail.com contact not found\n"
     ]
    }
   ],
   "source": [
    "import re\n",
    "from Packages.validators import phnvalidation as phv\n",
    "from Packages.validators import mailvalidation  as ev\n",
    "filename='data files\\mycontacts1.txt'\n",
    "def checkcontactexist(name):\n",
    "    with open (filename,'r')as f:\n",
    "        filedata=f.read()\n",
    "        pattern=name+','\n",
    "    return re.search(name,filedata)\n",
    "if checkcontactexist(\"madhu\"):\n",
    "    print(\"TRue\")\n",
    "else:\n",
    "    print(\"False\")\n",
    "def addcontact(name,phone,email):\n",
    "    \n",
    "    #store data as name,phn,email in the contacts file\n",
    "    if not checkcontactexist(name):\n",
    "        with open(filename,'a') as f:\n",
    "            l1=name+', '+str(phone)+' ,'+', '+email+'\\n'\n",
    "            f.write(l1)\n",
    "        print(name,\"details added to contacts\")\n",
    "    return(name,\"already exist\") \n",
    "print(addcontact(\"madhu\",9841234523,\"mad431@gmail.com\"))\n",
    "def csvtolist(filename):\n",
    "    with open(filename,'r') as f:\n",
    "        f1=[]\n",
    "        for i in f.readlines():\n",
    "             f1.append(i.split(sep=','))\n",
    "    return f1 \n",
    "li=csvtolist(filename)\n",
    "print(li)\n",
    "def searchcontact(filename,name):\n",
    "    filename=\"data files/mycontacts1.txt\"\n",
    "    f1=csvtolist(filename)\n",
    "    #print(f1)\n",
    "    f=0\n",
    "    for i in f1:\n",
    "        if name==i[0]:\n",
    "            f=1\n",
    "            print(','.join(i),end=\" \")\n",
    "    return (\"contact not found\")\n",
    "\n",
    "print(searchcontact(filename,\"madhu\"))\n",
    "\n",
    "            "
   ]
  },
  {
   "cell_type": "code",
   "execution_count": null,
   "metadata": {},
   "outputs": [
    {
     "name": "stdout",
     "output_type": "stream",
     "text": [
      "Enter 1.add contact:2.lst of contacts:3:search contact1\n",
      "('madhu', 'already exist')\n",
      "Enter 1.add contact:2.lst of contacts:3:search contact2\n",
      "[['name:', 'mobile:', 'email\\n'], ['sumathi', ' 9234567890 ', '', ' siddudad234_1hj@gmail.com\\n'], ['madhu', ' 9841234523 ', '', ' mad431@gmail.com']]\n",
      "Enter 1.add contact:2.lst of contacts:3:search contact3\n",
      "madhu, 9841234523 ,, mad431@gmail.com contact not found\n",
      "Enter 1.add contact:2.lst of contacts:3:search contact4\n",
      "waiting for input\n"
     ]
    }
   ],
   "source": [
    "while 1:\n",
    "    z=int(input(\"Enter 1.add contact:2.lst of contacts:3:search contact\"))\n",
    "    if z==1:\n",
    "        print(addcontact(\"madhu\",9841234523,\"mad431@gmail.com\"))\n",
    "    elif z==2:\n",
    "        print(li)\n",
    "    elif z==3:\n",
    "        print(searchcontact(filename,\"madhu\"))\n",
    "    else:\n",
    "        print(\"waiting for input\")\n",
    "        \n",
    "        \n",
    "        \n",
    "    "
   ]
  },
  {
   "cell_type": "markdown",
   "metadata": {},
   "source": [
    "# Function to check anagrams: and function to frequency of anagrams\n",
    "### 1.abc -->cba  True  2.aabbcc-->ccbbaaa-->False"
   ]
  },
  {
   "cell_type": "code",
   "execution_count": 3,
   "metadata": {},
   "outputs": [
    {
     "name": "stdout",
     "output_type": "stream",
     "text": [
      "False\n",
      "True\n"
     ]
    }
   ],
   "source": [
    "def anagrams1(s1,s2):\n",
    "    if(len(s1)!=len(s2)):\n",
    "        return False\n",
    "    if sorted(s1)==sorted(s2):\n",
    "        return True\n",
    "    return False\n",
    "print(anagrams1('abc','bcc'))\n",
    "print(anagrams1('aac','aca'))\n",
    "\n",
    "            \n",
    "            "
   ]
  },
  {
   "cell_type": "code",
   "execution_count": 13,
   "metadata": {},
   "outputs": [
    {
     "name": "stdout",
     "output_type": "stream",
     "text": [
      "0\n",
      "3\n",
      "2\n"
     ]
    }
   ],
   "source": [
    "#t=int(input)\n",
    "def charintoanagrams(s1,s2):\n",
    "    uncommon=[]# Collect the uncommon charcters in a list\n",
    "    for i in s1:\n",
    "        if i not in s2:\n",
    "            uncommon.append(i)\n",
    "    for i in s2:\n",
    "        if i not in s1:\n",
    "            uncommon.append(i)\n",
    "    count=len(uncommon)\n",
    "    freqs1={}\n",
    "    freqs2={}\n",
    "    uniques1=[]\n",
    "    uniques2=[]\n",
    "    for i in s1:\n",
    "        if i not in uncommon and i not in uniques1:\n",
    "            freqs1[i]=s1.count(i)\n",
    "            uniques1.append(i)\n",
    "    for i in s2:\n",
    "        if i not in uncommon and i not in uniques2:\n",
    "            freqs2[i]=s2.count(i)\n",
    "            uniques2.append(i)\n",
    "    for key in freqs1.keys():\n",
    "        count+=abs(freqs1[key]-freqs2[key])\n",
    "    return count\n",
    "'''for i in range(0,t):\n",
    "    s1=input()\n",
    "    s2=input()'''\n",
    "print(charintoanagrams(\"abc\",\"bac\")) # bz anagrams we get 0 \n",
    "print(charintoanagrams(\"aabcd\",\"baasdf\"))#not anagrams\n",
    "print(charintoanagrams(\"a\",\"b\"))# boundary conditions"
   ]
  },
  {
   "cell_type": "markdown",
   "metadata": {},
   "source": [
    "# Function to return floor avg of 1,10"
   ]
  },
  {
   "cell_type": "code",
   "execution_count": 14,
   "metadata": {},
   "outputs": [
    {
     "data": {
      "text/plain": [
       "5"
      ]
     },
     "execution_count": 14,
     "metadata": {},
     "output_type": "execute_result"
    }
   ],
   "source": [
    "def flooravg(lb,ub):\n",
    "    s=0\n",
    "    for i in range(lb,ub+1):\n",
    "        s+=i\n",
    "    count=ub-lb+1\n",
    "    return s//count\n",
    "flooravg(1,10)"
   ]
  },
  {
   "cell_type": "code",
   "execution_count": null,
   "metadata": {},
   "outputs": [],
   "source": []
  },
  {
   "cell_type": "code",
   "execution_count": null,
   "metadata": {},
   "outputs": [],
   "source": []
  }
 ],
 "metadata": {
  "kernelspec": {
   "display_name": "Python 3",
   "language": "python",
   "name": "python3"
  },
  "language_info": {
   "codemirror_mode": {
    "name": "ipython",
    "version": 3
   },
   "file_extension": ".py",
   "mimetype": "text/x-python",
   "name": "python",
   "nbconvert_exporter": "python",
   "pygments_lexer": "ipython3",
   "version": "3.7.3"
  }
 },
 "nbformat": 4,
 "nbformat_minor": 2
}
