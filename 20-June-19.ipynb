{
 "cells": [
  {
   "cell_type": "markdown",
   "metadata": {},
   "source": [
    "# Regular Expressions\n",
    "### pattern matching\n",
    "### symbolic Notation of a pattern\n",
    "### -->pattern:Format which repeats(sequence)\n",
    "# *RE--representation of set of strings \n",
    "### -->ex=[0-9]=pattern for any  digit\n",
    "### -->[a-z]=pattern of any lowercase alphabets\n",
    "###### #a pattern for all single digit muliples of 2=[2468] and also[8642] or[6248](not in order)\n",
    "\n",
    "### --> ^[0-9]{1}$ ==>0nly single digit numbers ^[0-9]{2}$ ==>for 2 digit numbers\n",
    "### -->^[0-9]{2}$==for 3 digit numbers only ^[a-z]{2}$ == for any 2 alphabets\n",
    "### -->[0-9]*0$==gives all values multiple  along with 01st and last \n",
    "### -->[1-9][0-9]*0$ =gives all values myltiply by 1o only \n",
    "###  ^[1-9][0-9]*[05]$==>values with all muliples of 5 other than 5(not 5)\n",
    "### ^[1-9][0-9]*[05]|([5])$ values with all muliples of 5 along with 5 also\n",
    "### \n",
    "\n",
    "\n"
   ]
  },
  {
   "cell_type": "markdown",
   "metadata": {},
   "source": [
    "# Roy and profile"
   ]
  },
  {
   "cell_type": "code",
   "execution_count": 6,
   "metadata": {},
   "outputs": [
    {
     "name": "stdout",
     "output_type": "stream",
     "text": [
      "180\n",
      "3\n",
      "640 480\n",
      "CROP IT\n",
      "120 300\n",
      "UPLOAD ANOTHER\n",
      "400 400\n",
      "ACCEPT\n"
     ]
    }
   ],
   "source": [
    "def royprofile(l,n,w,h):\n",
    "    if w <l or h < l:\n",
    "        print(\"UPLOAD ANOTHER\")\n",
    "    elif w==h:\n",
    "        print(\"ACCEPT\")\n",
    "    else:\n",
    "        print(\"CROP IT\")\n",
    "        \n",
    "l=int(input())\n",
    "n=int(input())\n",
    "for i in range(n):\n",
    "    x=input().split()\n",
    "    w=int(x[0])\n",
    "    h=int(x[1])\n",
    "    royprofile(l,n,w,h)"
   ]
  },
  {
   "cell_type": "code",
   "execution_count": 22,
   "metadata": {},
   "outputs": [
    {
     "data": {
      "text/plain": [
       "'jjhellojjj'"
      ]
     },
     "execution_count": 22,
     "metadata": {},
     "output_type": "execute_result"
    }
   ],
   "source": [
    "\"hello\".center(10,\"j\")"
   ]
  },
  {
   "cell_type": "code",
   "execution_count": 24,
   "metadata": {},
   "outputs": [
    {
     "name": "stdout",
     "output_type": "stream",
     "text": [
      "2\n",
      "3\n",
      "5\n"
     ]
    }
   ],
   "source": [
    "def lift(n):\n",
    "    \n",
    "    \n",
    "\n",
    "\n",
    "\n",
    "\n",
    "t=int(input())\n",
    "for i in range(t):\n",
    "    n=int(input())    "
   ]
  },
  {
   "cell_type": "markdown",
   "metadata": {},
   "source": [
    "### RE For Email "
   ]
  },
  {
   "cell_type": "code",
   "execution_count": 1,
   "metadata": {},
   "outputs": [],
   "source": [
    "# RE For Email  Verification\n",
    "# Email=(username@domain.ext)\n",
    "## username-->length of user[6,15] &1. no special Characters  other than _(should not end with _)&charcter set:all digits\n",
    "                        #and lowercase alphabets\n",
    "## domain-->Length of domain[3,18]& No special chacters& character set:all digita and alphabets\n",
    "##extension-->length of extenstion[2,]&No special chacters&character set:alphabets only\n",
    "\n",
    "\n",
    "\n",
    "#^[6-9][0-9]{9}$|^[0][6-9][0-9]{9}$==for contact\n",
    "#^[0-9a-z][0-9a-z_.]{4,13}[0-9a-z][@][a-z0-9]{3,18}[a-z0-9][a-z]{2,4}$==for email\n",
    "#^[a].....[z]$-->any string of values with a length 5(dots of 5 only) that are from a and end with z\n",
    "#^[a].*[z]$-->any string of any length from starts with a and end with z"
   ]
  },
  {
   "cell_type": "markdown",
   "metadata": {},
   "source": [
    "# Function to phone number validation "
   ]
  },
  {
   "cell_type": "code",
   "execution_count": 75,
   "metadata": {},
   "outputs": [
    {
     "data": {
      "text/plain": [
       "True"
      ]
     },
     "execution_count": 75,
     "metadata": {},
     "output_type": "execute_result"
    }
   ],
   "source": [
    "import re\n",
    "def phnvalidation(number):\n",
    "    pattern='^[6-9][0-9]{9}$|^[0][6-9][0-9]{9}$'\n",
    "    if re.match(pattern,str(number)):\n",
    "        return True\n",
    "    \n",
    "        #print(\"validnumber\")\n",
    "    else:\n",
    "        #print(\"invaid number\")\n",
    "        return  False\n",
    "    \n",
    "\n",
    "phnvalidation(9848916931)\n"
   ]
  },
  {
   "cell_type": "markdown",
   "metadata": {},
   "source": [
    "# Function for email  validation"
   ]
  },
  {
   "cell_type": "code",
   "execution_count": 76,
   "metadata": {},
   "outputs": [
    {
     "data": {
      "text/plain": [
       "True"
      ]
     },
     "execution_count": 76,
     "metadata": {},
     "output_type": "execute_result"
    }
   ],
   "source": [
    "import re\n",
    "def mailvalidation(email):\n",
    "   \n",
    "    email1='^[0-9a-z][0-9a-z_.]{4,13}[0-9a-z][@][a-z0-9]{3,18}[.][a-z0-9][a-z]{2,4}$'\n",
    "    if re.match(email1,email):\n",
    "        return True\n",
    "    else:\n",
    "        return  False\n",
    "mailvalidation(\"12madevi.md@gmail.com\")\n"
   ]
  },
  {
   "cell_type": "code",
   "execution_count": 80,
   "metadata": {},
   "outputs": [
    {
     "name": "stdout",
     "output_type": "stream",
     "text": [
      "{'name': [949297847, 'name1@gomain.ext'], 'name2': [4567223456, 'name2@gmac.com'], 'madhu': ['madhu123@gmail.com', 9848916935]}\n"
     ]
    }
   ],
   "source": [
    "contacts={\"name\":[949297847,'name1@gomain.ext'],\"name2\":[4567223456,\"name2@gmac.com\"]}\n",
    "def addcontact(name,number,email):\n",
    "    #verify that the contact doesnot already exist\n",
    "    if name in contacts:\n",
    "        print(\"contact  already exists\")\n",
    "    else:\n",
    "        if not phnvalidation(number):\n",
    "            print(\"phn num inavalid\")\n",
    "        if not mailvalidation(email):\n",
    "            print(\"emai is valid\")\n",
    "    newcontact=[]\n",
    "    newcontact.append(email)\n",
    "    newcontact.append(number)\n",
    "    contacts[name]=newcontact \n",
    "    print(contacts)\n",
    "    return\n",
    "addcontact(\"madhu\",9848916935,\"madhu123@gmail.com\")"
   ]
  },
  {
   "cell_type": "code",
   "execution_count": 85,
   "metadata": {},
   "outputs": [
    {
     "name": "stdout",
     "output_type": "stream",
     "text": [
      "madhu\n",
      "number : 9848916935\n",
      "email : madhu123@gmail.com\n"
     ]
    }
   ],
   "source": [
    "def searchcontact(name):\n",
    "    if name in contacts:\n",
    "        print(name)\n",
    "        print(\"number\", \":\",contacts[name][1])\n",
    "        print(\"email\", \":\",contacts[name][0])\n",
    "    else:\n",
    "        print(\"%s does not exist\" % name)\n",
    "    return\n",
    "searchcontact(\"madhu\")"
   ]
  },
  {
   "cell_type": "code",
   "execution_count": 86,
   "metadata": {},
   "outputs": [
    {
     "name": "stdout",
     "output_type": "stream",
     "text": [
      "1 contacts added sucessfully\n",
      "{'name': [949297847, 'name1@gomain.ext'], 'name2': [4567223456, 'name2@gmac.com'], 'madhu': ['madhu123@gmail.com', 9848916935], 'nag': [98567, 'latha453@gmail.com']}\n"
     ]
    },
    {
     "data": {
      "text/plain": [
       "dict_items([('name', [949297847, 'name1@gomain.ext']), ('name2', [4567223456, 'name2@gmac.com']), ('madhu', ['madhu123@gmail.com', 9848916935]), ('nag', [98567, 'latha453@gmail.com'])])"
      ]
     },
     "execution_count": 86,
     "metadata": {},
     "output_type": "execute_result"
    }
   ],
   "source": [
    "def importcontact(newcontacts):\n",
    "    contacts.update(newcontacts)\n",
    "    print(len(newcontacts.keys()),\"contacts added sucessfully\")\n",
    "    print(contacts)\n",
    "    return \n",
    "newcontacts={\"nag\":[98567,\"latha453@gmail.com\"]}\n",
    "importcontact(newcontacts)\n",
    "contacts.items()"
   ]
  },
  {
   "cell_type": "code",
   "execution_count": 88,
   "metadata": {},
   "outputs": [
    {
     "name": "stdout",
     "output_type": "stream",
     "text": [
      "name \n",
      " phone: name1@gomain.ext \n",
      " email: name1@gomain.ext\n",
      "name2 \n",
      " phone: name2@gmac.com \n",
      " email: name2@gmac.com\n",
      "madhu \n",
      " phone: 9848916935 \n",
      " email: 9848916935\n",
      "nag \n",
      " phone: latha453@gmail.com \n",
      " email: latha453@gmail.com\n"
     ]
    }
   ],
   "source": [
    "def listvalues(contacts):\n",
    "    for contact,values in contacts.items():\n",
    "        print(contact,\"\\n\",\"phone:\",values[1],\"\\n\",\"email:\",values[1])\n",
    "listvalues(contacts)     "
   ]
  },
  {
   "cell_type": "markdown",
   "metadata": {},
   "source": [
    "# File Handling\n",
    "### Document Containing information residing on the perment storage\n",
    "###    >>1.text,.ping,.py,.pdf,.csv\n",
    "### >File I/O=Channelling data to files  >>Default I/O channels=keyboard&creen\n",
    "#### change I/O Channel to files for Reading and Writing\n",
    "#### Read a file=input from file    >> function for this is ===open(filename,mode)\n",
    "##### write to a file=output to a file\n"
   ]
  },
  {
   "cell_type": "markdown",
   "metadata": {},
   "source": [
    "# Function to read a file"
   ]
  },
  {
   "cell_type": "code",
   "execution_count": 45,
   "metadata": {},
   "outputs": [
    {
     "name": "stdout",
     "output_type": "stream",
     "text": [
      "line 1\n",
      "line 2\n",
      "line 3\n",
      "\n"
     ]
    }
   ],
   "source": [
    "def read(filename):\n",
    "    f=open(filename,'r')\n",
    "    filedata=f.read()\n",
    "    f.close()\n",
    "    return filedata\n",
    "filename='data files/data.txt'\n",
    "f1=read(filename)\n",
    "for i in f1.split('\\n'):\n",
    "    print(i)"
   ]
  },
  {
   "cell_type": "code",
   "execution_count": 50,
   "metadata": {},
   "outputs": [
    {
     "name": "stdout",
     "output_type": "stream",
     "text": [
      "line 1\n",
      "line 2\n",
      "line 3\n"
     ]
    }
   ],
   "source": [
    "def printfiledata(filename):\n",
    "    f=open(filename,'r')\n",
    "    for i in f:\n",
    "        print(i,end='')\n",
    "    return\n",
    "printfiledata(filename)\n"
   ]
  },
  {
   "cell_type": "code",
   "execution_count": 48,
   "metadata": {},
   "outputs": [
    {
     "data": {
      "text/plain": [
       "['line 1', 'line 2', 'line 3', '']"
      ]
     },
     "execution_count": 48,
     "metadata": {},
     "output_type": "execute_result"
    }
   ],
   "source": [
    "def read(filename):\n",
    "    f=open(filename,'r')\n",
    "    filedata=f.read()\n",
    "    f.close()\n",
    "    return filedata\n",
    "filename='data files/data.txt'\n",
    "f1=read(filename)\n",
    "f1.split('\\n')"
   ]
  },
  {
   "cell_type": "code",
   "execution_count": 51,
   "metadata": {},
   "outputs": [
    {
     "name": "stdout",
     "output_type": "stream",
     "text": [
      "line 1\n",
      "line 2\n",
      "line 3\n",
      "\n"
     ]
    }
   ],
   "source": [
    "print(read(filename))"
   ]
  },
  {
   "cell_type": "markdown",
   "metadata": {},
   "source": [
    "# Function to overwrite the data to a file"
   ]
  },
  {
   "cell_type": "code",
   "execution_count": 52,
   "metadata": {},
   "outputs": [],
   "source": [
    "def writetofile(filename,filedata):\n",
    "    with open(filename,'w') as f:\n",
    "        f.write(filedata)\n",
    "        return \n",
    "filename='data files/data.txt'\n",
    "writetofile(filename,\"newdata\")"
   ]
  },
  {
   "cell_type": "code",
   "execution_count": 61,
   "metadata": {},
   "outputs": [],
   "source": [
    "#Function to append the data to a file\n",
    "def appenddata(filename,filedata):\n",
    "    with open(filename,'a') as f:\n",
    "        f.write(filedata)\n",
    "        return\n",
    "filename='data files\\data.txt'\n",
    "filedata='\\nappend \\n data'\n",
    "appenddata(filename,filedata)"
   ]
  },
  {
   "cell_type": "code",
   "execution_count": 65,
   "metadata": {},
   "outputs": [],
   "source": [
    "def listdata(filename,filedata):\n",
    "    with open(filename,'a') as f:\n",
    "        f.writelines(filedata)\n",
    "        return\n",
    "filename='data files\\data.txt'\n",
    "filedata=[\"madhu\" ,\"n431\"]\n",
    "listdata(filename,filedata)"
   ]
  },
  {
   "cell_type": "code",
   "execution_count": 66,
   "metadata": {},
   "outputs": [],
   "source": [
    "def listdata(filename,filedata):\n",
    "    with open(filename,'a') as f:\n",
    "        for i in filedata:\n",
    "            f.write('\\n'+i)\n",
    "            return \n",
    "filename='data files\\data.txt'\n",
    "filedata=[\"madhu\" ,\"431\"]\n",
    "listdata(filename,filedata)"
   ]
  },
  {
   "cell_type": "code",
   "execution_count": null,
   "metadata": {},
   "outputs": [],
   "source": []
  }
 ],
 "metadata": {
  "kernelspec": {
   "display_name": "Python 3",
   "language": "python",
   "name": "python3"
  },
  "language_info": {
   "codemirror_mode": {
    "name": "ipython",
    "version": 3
   },
   "file_extension": ".py",
   "mimetype": "text/x-python",
   "name": "python",
   "nbconvert_exporter": "python",
   "pygments_lexer": "ipython3",
   "version": "3.7.3"
  }
 },
 "nbformat": 4,
 "nbformat_minor": 2
}
