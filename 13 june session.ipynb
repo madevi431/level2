{
 "cells": [
  {
   "cell_type": "markdown",
   "metadata": {},
   "source": [
    "# Advanced problem set\n"
   ]
  },
  {
   "cell_type": "code",
   "execution_count": 108,
   "metadata": {},
   "outputs": [
    {
     "data": {
      "text/plain": [
       "3.0"
      ]
     },
     "execution_count": 108,
     "metadata": {},
     "output_type": "execute_result"
    }
   ],
   "source": [
    "#Function to generate average of all factorials in a given range\n",
    "def avgfactorials(lb,ub):\n",
    "    f=1\n",
    "    s=0\n",
    "    c=0\n",
    "    for i in range(lb,ub+1):\n",
    "        f=f*i\n",
    "        s=s+f\n",
    "        c=c+1\n",
    "    return (s/c)\n",
    "avgfactorials(1,3)"
   ]
  },
  {
   "cell_type": "code",
   "execution_count": 107,
   "metadata": {},
   "outputs": [
    {
     "name": "stdout",
     "output_type": "stream",
     "text": [
      "3.0\n"
     ]
    }
   ],
   "source": [
    "lb=1\n",
    "ub=3\n",
    "def \n",
    "s=0\n",
    "c=0\n",
    "for n in range(lb,ub+1):\n",
    "    f=1\n",
    "    for i in range(1,n+1):\n",
    "        f*=i\n",
    "    s=s+f\n",
    "    c=c+1\n",
    "print(s/c)\n",
    "    \n"
   ]
  },
  {
   "cell_type": "code",
   "execution_count": 102,
   "metadata": {},
   "outputs": [
    {
     "name": "stdout",
     "output_type": "stream",
     "text": [
      "0\n",
      "1\n",
      "2\n",
      "3\n"
     ]
    }
   ],
   "source": [
    "for i in range(4):\n",
    "    print(i)"
   ]
  },
  {
   "cell_type": "code",
   "execution_count": 2,
   "metadata": {},
   "outputs": [],
   "source": [
    "#Function to generate n odd armstrong numbers in a given range\n"
   ]
  },
  {
   "cell_type": "code",
   "execution_count": 3,
   "metadata": {},
   "outputs": [],
   "source": [
    "#Function to generate multiplcation tables for a number in a given range\n",
    "#10 in the range(100,102) inclusive\n",
    "#10*100=1000\n",
    "#10*101-"
   ]
  },
  {
   "cell_type": "code",
   "execution_count": 16,
   "metadata": {},
   "outputs": [
    {
     "data": {
      "text/plain": [
       "3000.0"
      ]
     },
     "execution_count": 16,
     "metadata": {},
     "output_type": "execute_result"
    }
   ],
   "source": [
    "#Function to calculate the average of a given range\n",
    "def avgrange(lb,ub):\n",
    "    s=0\n",
    "    count=0\n",
    "    for i in range(lb,ub+1):\n",
    "        s=s+i\n",
    "        count=count+1  #counting the number of value\n",
    "        avg=s/count   # avg=sum/total count\n",
    "    return avg\n",
    "    \n",
    "avgrange(1000,5000)\n",
    "        \n",
    "    "
   ]
  },
  {
   "cell_type": "code",
   "execution_count": 12,
   "metadata": {},
   "outputs": [
    {
     "data": {
      "text/plain": [
       "3.75"
      ]
     },
     "execution_count": 12,
     "metadata": {},
     "output_type": "execute_result"
    }
   ],
   "source": [
    "def avgrange(lb,ub):\n",
    "    s=0\n",
    "   # count=0\n",
    "    for i in range(lb,ub):\n",
    "        s=s+i\n",
    "        #count=count+1  #counting the number of value\n",
    "       # avg=s/count   # avg=sum/total count\n",
    "    return s/(ub-lb)  #ub-lb means endvalue -start value gives total count value\n",
    "    \n",
    "avgrange(1,5)\n",
    "        \n",
    "    "
   ]
  },
  {
   "cell_type": "code",
   "execution_count": null,
   "metadata": {},
   "outputs": [],
   "source": []
  },
  {
   "cell_type": "code",
   "execution_count": 9,
   "metadata": {},
   "outputs": [
    {
     "data": {
      "text/plain": [
       "0.5"
      ]
     },
     "execution_count": 9,
     "metadata": {},
     "output_type": "execute_result"
    }
   ],
   "source": [
    "3/2-1"
   ]
  },
  {
   "cell_type": "code",
   "execution_count": 47,
   "metadata": {},
   "outputs": [
    {
     "name": "stdout",
     "output_type": "stream",
     "text": [
      "1920 1924 1928 1932 1936 1940 1944 1948 1952 1956 1960 1964 1968 1972 1976 1980 1984 1988 1992 1996 2000 2004 2008 2012 2016 "
     ]
    }
   ],
   "source": [
    "#function to generate all leap years in a gievn range & calculate a year is leap year\n",
    "def isleapyear(i):\n",
    "    if i%4==0 and i%100!=0 or i%400==0:\n",
    "        return True\n",
    "    return False\n",
    "    \n",
    "#def yearsrange(startyaer,endyear):\n",
    "#   for i in range(startyaer,endyear+1):\n",
    "#        if i%4==0 and i%100!=0 or i%400==0: # year divided by 4 and gives remainder is 0 and also not divisble by 100 or and \n",
    "            #also yaer divivded by 400 and gives remainder is 0 then year is leap year\n",
    "#            print(i)\n",
    "#    return \n",
    "def yearsrange(startyaer,endyear):\n",
    "    for i in range(startyaer,endyear+1):\n",
    "        if isleapyear(i):\n",
    "            print(i,end=\" \")\n",
    "    return \n",
    "\n",
    "\n",
    "yearsrange(1919,2019)   \n",
    "        "
   ]
  },
  {
   "cell_type": "code",
   "execution_count": 95,
   "metadata": {},
   "outputs": [
    {
     "data": {
      "text/plain": [
       "730"
      ]
     },
     "execution_count": 95,
     "metadata": {},
     "output_type": "execute_result"
    }
   ],
   "source": [
    "#Function to calculate number of dayes in given time period using leap year\n",
    "#for every year in the time period->add 365 to the year\n",
    "def numberofdays(startyear,endyear):\n",
    "    dayssum=0\n",
    "    for i in range(startyear,endyear+1):\n",
    "        if isleapyear(i):\n",
    "            dayssum=dayssum+366 #leap year having 366 days\n",
    "        else:\n",
    "            dayssum=dayssum+365 \n",
    "    return dayssum\n",
    "numberofdays(2017,2018)\n",
    "        \n",
    "        "
   ]
  },
  {
   "cell_type": "code",
   "execution_count": 113,
   "metadata": {},
   "outputs": [
    {
     "name": "stdout",
     "output_type": "stream",
     "text": [
      "31\n",
      "366\n",
      "60\n",
      "number of hours 205248\n"
     ]
    }
   ],
   "source": [
    "#Function to calculate number of hours for a given period\n",
    "#(11,1975,03,1999)\n",
    "#no of hours(5,2019,6,2019)\n",
    "#2,2017,6,2019\n",
    "#no of hours=24*no of days\n",
    "#3 steps\n",
    "    #1.Start month year to end of year-calculate no of days(11 months)\n",
    "    #2.calculate days all years between start year and end year exclusive\n",
    "    #2018->365*no of years\n",
    "    #3.calculate days from jan to end month year\n",
    "    \n",
    "#Exculding Feb\n",
    "    #first seven months=1,3,4,5,6,7(oddmonths=31days,even=30)\n",
    "    #next months=,8,9,10,11,12  (even=31 days and odd=30 days)\n",
    "#31 days=(month<=7 and month % 2!=0 and month!=2)||(month>8 and month%2==0)\n",
    "    #return 31\n",
    "\n",
    "def numofdaysmonth(month,year):\n",
    "    if month==2:\n",
    "        if isleapyear(year):\n",
    "            return 29\n",
    "        return 28\n",
    "    elif (month<=7 and month % 2!=0) or (month>7 and month%2==0):\n",
    "            return 31\n",
    "    else:\n",
    "        return 30\n",
    "print(numofdaysmonth(7,2019))\n",
    "def daysinstartyear(startmonth,startyear):\n",
    "    days=0\n",
    "    for month in range(startmonth,13):\n",
    "        days=days+numofdaysmonth(month,startyear)\n",
    "    return days\n",
    "print(daysinstartyear(1,2020))\n",
    "def daysinendyear(endmonth,endyear):\n",
    "    days=0\n",
    "    for month in range(1,endmonth+1):\n",
    "        days=days+numofdaysmonth(month,endyear)\n",
    "    return days\n",
    "print(daysinendyear(2,2020))\n",
    "def numhours(startmonth,startyear,endmonth,endyear):\n",
    "    days=0\n",
    "    days+=daysinstartyear(startmonth,startyear)\n",
    "    days+=daysinendyear(endmonth,endyear)\n",
    "    if endyear-startyear == 1:\n",
    "        days+=numberofdays(startyear+1,endyear)\n",
    "    elif endyear-startyear>2:\n",
    "        days+=numberofdays(startyear+1,endyear-1)\n",
    "    return 24*days\n",
    "\n",
    "print(\"number of hours\",numhours(11,1975,3,1999))"
   ]
  },
  {
   "cell_type": "code",
   "execution_count": 82,
   "metadata": {},
   "outputs": [
    {
     "name": "stdout",
     "output_type": "stream",
     "text": [
      "12\n"
     ]
    }
   ],
   "source": [
    "for i in range(12,13):\n",
    "    print(i)"
   ]
  },
  {
   "cell_type": "code",
   "execution_count": null,
   "metadata": {},
   "outputs": [],
   "source": []
  }
 ],
 "metadata": {
  "kernelspec": {
   "display_name": "Python 3",
   "language": "python",
   "name": "python3"
  },
  "language_info": {
   "codemirror_mode": {
    "name": "ipython",
    "version": 3
   },
   "file_extension": ".py",
   "mimetype": "text/x-python",
   "name": "python",
   "nbconvert_exporter": "python",
   "pygments_lexer": "ipython3",
   "version": "3.7.3"
  }
 },
 "nbformat": 4,
 "nbformat_minor": 2
}
